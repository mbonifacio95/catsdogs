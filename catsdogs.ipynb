{
 "cells": [
  {
   "cell_type": "code",
   "execution_count": 1,
   "metadata": {},
   "outputs": [],
   "source": [
    "import numpy as np\n",
    "import pandas as pd \n",
    "import matplotlib.pyplot as plt\n",
    "%matplotlib inline"
   ]
  },
  {
   "cell_type": "code",
   "execution_count": 2,
   "metadata": {},
   "outputs": [],
   "source": [
    "import pyarrow as pa"
   ]
  },
  {
   "cell_type": "code",
   "execution_count": 3,
   "metadata": {},
   "outputs": [],
   "source": [
    "df1 = pd.read_parquet(\"train1.parquet\")\n",
    "df2= pd.read_parquet(\"train2.parquet\")"
   ]
  },
  {
   "cell_type": "code",
   "execution_count": 4,
   "metadata": {},
   "outputs": [
    {
     "name": "stdout",
     "output_type": "stream",
     "text": [
      "                                               image  labels\n",
      "0  {'bytes': b'\\xff\\xd8\\xff\\xe0\\x00\\x10JFIF\\x00\\x...       0\n",
      "1  {'bytes': b'\\xff\\xd8\\xff\\xe0\\x00\\x10JFIF\\x00\\x...       0\n",
      "2  {'bytes': b'\\xff\\xd8\\xff\\xe0\\x00\\x10JFIF\\x00\\x...       0\n",
      "3  {'bytes': b'\\xff\\xd8\\xff\\xe0\\x00\\x10JFIF\\x00\\x...       0\n",
      "4  {'bytes': b'\\xff\\xd8\\xff\\xe0\\x00\\x10JFIF\\x00\\x...       0\n",
      "\n",
      "\n",
      "<class 'pandas.core.frame.DataFrame'>\n",
      "RangeIndex: 11705 entries, 0 to 11704\n",
      "Data columns (total 2 columns):\n",
      " #   Column  Non-Null Count  Dtype \n",
      "---  ------  --------------  ----- \n",
      " 0   image   11705 non-null  object\n",
      " 1   labels  11705 non-null  int64 \n",
      "dtypes: int64(1), object(1)\n",
      "memory usage: 183.0+ KB\n",
      "None\n",
      "\n",
      "\n",
      "        labels\n",
      "count  11705.0\n",
      "mean       0.0\n",
      "std        0.0\n",
      "min        0.0\n",
      "25%        0.0\n",
      "50%        0.0\n",
      "75%        0.0\n",
      "max        0.0\n",
      "\n",
      "\n",
      "(11705, 2)\n",
      "\n",
      "\n"
     ]
    }
   ],
   "source": [
    "print(df1.head(),end=\"\\n\\n\\n\")\n",
    "print(df1.info(),end=\"\\n\\n\\n\")\n",
    "print(df1.describe(),end=\"\\n\\n\\n\")\n",
    "print(df1.shape,end=\"\\n\\n\\n\")"
   ]
  },
  {
   "cell_type": "code",
   "execution_count": 5,
   "metadata": {},
   "outputs": [
    {
     "name": "stdout",
     "output_type": "stream",
     "text": [
      "                                               image  labels\n",
      "0  {'bytes': b'\\xff\\xd8\\xff\\xe0\\x00\\x10JFIF\\x00\\x...       0\n",
      "1  {'bytes': b'\\xff\\xd8\\xff\\xe0\\x00\\x10JFIF\\x00\\x...       0\n",
      "2  {'bytes': b'\\xff\\xd8\\xff\\xe0\\x00\\x10JFIF\\x00\\x...       0\n",
      "3  {'bytes': b'\\xff\\xd8\\xff\\xe0\\x00\\x10JFIF\\x00\\x...       0\n",
      "4  {'bytes': b'\\xff\\xd8\\xff\\xe0\\x00\\x10JFIF\\x00\\x...       0\n",
      "\n",
      "\n",
      "<class 'pandas.core.frame.DataFrame'>\n",
      "RangeIndex: 11705 entries, 0 to 11704\n",
      "Data columns (total 2 columns):\n",
      " #   Column  Non-Null Count  Dtype \n",
      "---  ------  --------------  ----- \n",
      " 0   image   11705 non-null  object\n",
      " 1   labels  11705 non-null  int64 \n",
      "dtypes: int64(1), object(1)\n",
      "memory usage: 183.0+ KB\n",
      "None\n",
      "\n",
      "\n",
      "             labels\n",
      "count  11705.000000\n",
      "mean       0.996924\n",
      "std        0.055375\n",
      "min        0.000000\n",
      "25%        1.000000\n",
      "50%        1.000000\n",
      "75%        1.000000\n",
      "max        1.000000\n",
      "\n",
      "\n",
      "(11705, 2)\n",
      "\n",
      "\n"
     ]
    }
   ],
   "source": [
    "print(df2.head(),end=\"\\n\\n\\n\")\n",
    "print(df2.info(),end=\"\\n\\n\\n\")\n",
    "print(df2.describe(),end=\"\\n\\n\\n\")\n",
    "print(df2.shape,end=\"\\n\\n\\n\")"
   ]
  },
  {
   "cell_type": "code",
   "execution_count": 6,
   "metadata": {},
   "outputs": [
    {
     "name": "stdout",
     "output_type": "stream",
     "text": [
      "labels\n",
      "0    11705\n",
      "Name: count, dtype: int64\n",
      "labels\n",
      "1    11669\n",
      "0       36\n",
      "Name: count, dtype: int64\n"
     ]
    }
   ],
   "source": [
    "print(df1['labels'].value_counts())\n",
    "print(df2['labels'].value_counts())"
   ]
  },
  {
   "cell_type": "code",
   "execution_count": 7,
   "metadata": {},
   "outputs": [
    {
     "data": {
      "text/plain": [
       "labels\n",
       "1    11669\n",
       "Name: count, dtype: int64"
      ]
     },
     "execution_count": 7,
     "metadata": {},
     "output_type": "execute_result"
    }
   ],
   "source": [
    "# We see that in df1 they are all cats and in df2 they are almost all dogs. We clean df2\n",
    "df2=df2[df2['labels']==1].reset_index(drop=True)\n",
    "df2['labels'].value_counts()"
   ]
  },
  {
   "cell_type": "code",
   "execution_count": 8,
   "metadata": {},
   "outputs": [
    {
     "data": {
      "text/plain": [
       "{'bytes': b'\\xff\\xd8\\xff\\xe0\\x00\\x10JFIF\\x00\\x01\\x01\\x00\\x00\\x01\\x00\\x01\\x00\\x00\\xff\\xdb\\x00C\\x00\\x08\\x06\\x06\\x07\\x06\\x05\\x08\\x07\\x07\\x07\\t\\t\\x08\\n\\x0c\\x14\\r\\x0c\\x0b\\x0b\\x0c\\x19\\x12\\x13\\x0f\\x14\\x1d\\x1a\\x1f\\x1e\\x1d\\x1a\\x1c\\x1c $.\\' \",#\\x1c\\x1c(7),01444\\x1f\\'9=82<.342\\xff\\xdb\\x00C\\x01\\t\\t\\t\\x0c\\x0b\\x0c\\x18\\r\\r\\x182!\\x1c!22222222222222222222222222222222222222222222222222\\xff\\xc0\\x00\\x11\\x08\\x01w\\x01\\xf4\\x03\\x01\"\\x00\\x02\\x11\\x01\\x03\\x11\\x01\\xff\\xc4\\x00\\x1b\\x00\\x00\\x02\\x03\\x01\\x01\\x01\\x00\\x00\\x00\\x00\\x00\\x00\\x00\\x00\\x00\\x00\\x02\\x03\\x00\\x01\\x04\\x05\\x06\\x07\\xff\\xc4\\x006\\x10\\x00\\x02\\x02\\x01\\x03\\x03\\x02\\x04\\x05\\x04\\x02\\x02\\x02\\x03\\x00\\x00\\x00\\x01\\x02\\x11\\x03\\x04\\x12!\\x051AQa\\x06\\x13\"q\\x142R\\x81\\x91\\x15B\\xa1\\xb1#b\\x82\\x92\\x07\\xc14r\\xd1\\xff\\xc4\\x00\\x1a\\x01\\x00\\x03\\x01\\x01\\x01\\x01\\x00\\x00\\x00\\x00\\x00\\x00\\x00\\x00\\x00\\x00\\x00\\x01\\x02\\x03\\x04\\x05\\x06\\xff\\xc4\\x00$\\x11\\x01\\x01\\x00\\x02\\x02\\x02\\x02\\x03\\x01\\x01\\x01\\x01\\x00\\x00\\x00\\x00\\x00\\x01\\x02\\x11\\x03!\\x121\\x04\\x132AQ\"B\\x14q\\xff\\xda\\x00\\x0c\\x03\\x01\\x00\\x02\\x11\\x03\\x11\\x00?\\x00\\xf5P\\x1f\\x010\\x1d\\x13\\xe5\\xde\\xb9\\xd1\\x1b\\x11Q\\x1d\\x04#2(b\\x0645(\\x80D\\x1a\"\\x8a\\xf5.\\x97\\xa8\\x82\\xd0i\\x80\\x82B\\x06 \\xd0\\xb8\\xb0\\xd3\\x02\\xa3\\xa4\\xd53\\x0e\\xafKi\\xba7 \\xdcT\\xa3Le.\\xab\\xc5u\\x1e\\x9d\\x1c\\xa9\\xa7\\x1b9z~\\x96\\xb4\\xf3\\xfa\\x91\\xed\\xf5:E\\xba\\xea\\xce^\\xabM\\xe6\\x8d0\\xbf\\xd7W\\x1enW\\xcbIR\\xec\\'&.\\rRu~\\xa2\\xa7\\xcfq\\xe5\\x1dX\\xe4\\xe7\\xe5\\xc5i\\xa5\\xc1\\xcd\\xce\\xe3\\ty\\x93^\\xbd\\x8e\\xbeY%t\\x8e\\x1e\\xb2V\\xe4\\xefu\\x18\\xf8v\\xac\\xf2\\xd4`\\xd5j\\xa5\\x96j1i%\\xfc\\x01\\x18b\\xab\\x9eG\\']\\x85\\xe4\\x9a\\xc9\\'\\xbe\\xe2\\x97\\xa7\\x81\\x9a\\\\\\x7f2N8\\xd7\\x8ed\\xc7p\\xd4q\\\\\\xeeY\\x1d\\x0b\\x94j\\x18\\xf8\\xf5:];W\\x93G\\x9dJ/\\x87\\xdd!8t\\x95\\xff\\x00\\xe4J\\xbd9\\x0bk\\xe7\\xe4A\\xcd/^\\x0c\\xad\\x8d>\\xbb\\xae\\xdfF\\xe9z\\xe8\\xe7\\xc5\\x19\\'\\xdc\\xf4\\x18rn\\x89\\xf3>\\x8b\\xac\\xcb\\xa6\\xcb\\xb7\\'\\xd3\\x17\\xe3\\xd0\\xf7Z-R\\x9cSN\\xd3\\x0c2\\xd5s\\xf2\\xf1W`\\x80\\xc2[\\x95\\x84tG&\\x90\\x84 \\xc9\\n,\\x82\\n!\\x08\\x06\\x85\\x10\\x80\\x16G\\xd8\\x84}\\x84\\n`\\x87 \\x05T\\x84!\\x00\\xd0\\x84 \\x04!\\x08\\x01d!\\x06HB\\x160\\x85\\x94YD\\xb2\\xca-\\x0c\\xaaQdE\\xd1Q!)\\xa0\\xe8\\xa6\\x83G)-\\x01$:B\\xa4E\\\\&HT\\x90\\xf6\\x04\\xa2E\\x8b\\x95\\x99\\xaeH1\\xaeH%<\\xd4GDLGD\\xa35v\\n2~\\xa0.\\xc5\\xdd!\\x03\\xa37\\xea1f\\xaf&;\\x93\\x95\\x05\\x0b|\\xb7AM\\xba9/\\x81\\xb1fLU\\xe2F\\x98\\xb2H\\xd4\\xc2L\\x04\\xcbLFba\\xa6)0\\xd3\\x0291\\x91\\x13\\x166,q\\x16\\npS\\x8d\\x1c\\xadV\\x1e\\xfc\\x1dt\\'Q\\x83\\xe6E\\xb5\\xdc\\xa3\\xc3-W\\x90\\xd6bpnI}\\xcevL\\xa7\\xa5\\xd5\\xe9\\xad4\\xd1\\xe65\\xfay\\xe2\\x9bi}%\\xe3v\\xed\\xc32\\'=\\xe9\\xafS\\x06m,Te+o\\xd8\\xd2\\xac9cs\\x86\\xd1Y\\xa6\\xbdW\\x03&\\x9f{\\xa8\\xc5\\x15\\xa5\\xf9\\xd1\\x97\\xcb\\xc2\\xbc\\xfa]\\x1d\\x98t\\xd5\\xf37NM\\xfb#^=,q~H!g\\x94\\x918\\xf0\\xdbw\\xe9\\x8f\\x0e\\x87$\\xd2\\xf9\\xf3r\\xf3\\xc9\\xd0\\xc5\\x8a\\x10\\x8aP\\x8aT]?J.\\xbdY\\xc1\\x9d\\xb5\\xdb\\x86\\x13\\x15J\\t;\\xe1\\x1d\\xbe\\x8f\\xae\\x8f\\x18\\xe5/\\xa9\\x1c\\'U\\xdc\\xbc3x\\xf2\\xc6quL\\x8cn\\x93\\xcb\\xc72\\x8f\\xa3i\\xf3).\\xe6\\xb4\\xec\\xf3\\xbd3V\\xb2\\xe3N\\xf9;\\xb8f\\xa4\\x8e\\xde<\\xb7\\xd3\\xc4\\xe6\\xe3\\xf1\\xa7\\x10\\xa2\\x1a\\xb1YD \\x04!\\x08\\x01\\x08B\\x00B\\x99eK\\xb0\\x81l\\x10\\xa4\\x08\\xaa\\xa2\\x15)m\\x8d\\xb2\\xcc\\xfa\\xac\\x8a\\x18\\xa4\\xdb\\xaaD\\xe5u6\\xa97t\\xe3un\\xbb\\xf8L\\x9f*\\x0f\\xea\\xf2V\\x83\\xad\\xbc\\xee*O\\x93\\xcb\\xf5)\\xc3?P\\x94\\xe5?n\\xe6\\xfd\\n\\xc5\\x19FJ]\\x8f/>L\\xae[\\x95\\xeaN\\x0c&\\x1a\\xb1\\xee1dY \\xa4\\x831h\\'x\\x92]\\x8d\\xa7\\xa5\\xc5\\x97\\x96;y\\xb9\\xe3\\xe3\\x96\\x90\\xb2\\x10\\xd5\\x0b!E\\x8c\\x90\\xb2\\x8bE\\x12\\xcbE\\x042Z.\\x8aA\"\\xe2R\\x81a\\x81!\\xd2*b\\x98\\xc9\\x00\\xcc\\xb2k\\x00SA\\x17D\\xc8d5\\xc9\\x068\\x904{y\\x18\\x8e\\x88\\x88\\x0e\\x8846\\xf8-r\\x81\\xbe\\tt\\xacA\\')F<5\\x1fVZw\\\\~\\xecS\\xb9I\\xae\\xf4\\x14/\\xbc\\x9d\\x01\\xb5\\xe2\\xa4\\xfb\\x9ab\\xcc\\x98\\xab\\xd6\\xcd1b\\x07 \\x93\\x16\\x98I\\x92\\x0cA&-0\\xd3\\x00lX\\xd8\\xb3:cb\\xc16\\x1f\\x161\\t\\x8b\\x1a\\x8b\\x8c\\xecf\\xd5i\\x94\\xa2\\xe4\\x91\\xe7\\xf5\\xda=\\xc9\\xf0z\\xbe\\xea\\x99\\x8bU\\xa4RM\\xa5\\xc0z\\xed\\xa7\\x1ez\\xea\\xbc\\x06m3\\xc3>\\xdc\\x02\\xa9\\x1e\\x93W\\xa2RM8\\x9c-N\\x92x\\xa4\\xda\\\\z\\x1aK+\\xb7\\x1c\\xc1\\x06\\x9b\\x1bJ\\x8c\\xd1\\x96\\xd0\\xfeg\\x04e\\x8b|r\\x13\\xda\\xdfrm\\xf1b\\xf7&\\xf9-4\\x9fs\\x9f,\\x1bc\\x92K\\x17\\xa0\\x1f.k\\xb1\\xb3\\x1dU\\xaaeN7\\xdb\\x83\\x97.\\xabI\\xd8z~\\xaf&\\x8f:\\xdd\\xf9\\x1b\\xe7\\x9e\\xc7\\xb4\\xd1j\\xa3\\x92\\x11\\x94d\\x9a~O\\x12\\xf0_\\x83\\xab\\xd1\\xf5\\xbf&k\\x06GK\\xfbYxg\\xa7\\'\\xc9\\xe1\\xdc\\xdc{XKr\\x08\\xc7\\xa7\\xcdtkN\\xd1\\xdb\\x8e[\\x8f\\x1f,uVB\\x10\\xa4\\xa1\\x08A\\x04!\\n\\x00\\xb2H\\x88\\xa6\\x00\\xb9\\x02\\x14\\x81\\x15TS8\\xddjo\\xf0\\xd3\\x8aug[,\\xd4#\\xc9\\xe5z\\xc7V\\xc1\\x19\\xb8J\\\\\\xa3\\x9f\\x9f-c\\xa7O\\xc7\\xc2\\xdc\\xb6\\xf3\\x99\\xb4I\\xcd\\xc9I\\xdd\\x9a\\xb4\\xbaL\\x90|6!k\\xb1J}\\xf8\\xb3\\xab\\xa4\\xd5b\\x9bJ\\xd1\\xe7\\xde\\xfd\\xbd+l\\x8fA\\xd27\\xa5\\x1d\\xdd\\x92;\\'3\\xa7%*k\\xb2:g\\xa3\\xf1\\xe6\\xb1y|\\xf7y,\\x96QgC\\x15\\x90\\x94A\\x92\\xcb(\\xb2\\x89e\\xa2\\x8bED\\xd1 \\x90($\\\\$\\x06]\\x83\\x02aA,\\x06\\x1b\\x05\\x99V\\x90\\x14\\xc2(\\xb4\\x10P\\xb5\\xc9\\x02h\\x83\\xd0x\\x98\\xb1\\xd1fx\\xb1\\xb1!\\xa9\\xd7\\xc1;\\xa0\\x1b\\xe0\\x07\\x92~\"\\x06l\\x94\\x9d(\\xba^FF*\\xccw6\\xfc\\xa0\\x94\\xb2/\\xee`\\x1d\\x18R\\x1f\\x16sq<\\xcf\\xb36c\\xf9\\x8b\\xf34M6\\xa4\\xc2LRa\\xa6 ja!i\\x86\\x98\\x81\\x89\\x86\\x98\\x94\\xc3L\\x03Dd6,\\xcb\\x19\\x0e\\x8c\\x87*,hL.\\xfd\\xc5FC\\x13.Vv\\x11\\x9fG\\x1c\\x89\\xb8\\xaag\\x1fU\\xd3\\xda\\xbb\\x89\\xe8J\\x94#5M&\\x1a\\xfe+\\x1eK\\x8b\\xc2\\xea\\xbao-\\xa5L\\xe5e\\xc3\\x93\\x13\\xa9\\xae=O\\xa1j:|f\\x9b\\x8f\\x7fC\\x89\\xac\\xe9\\xf5i\\xc4<\\xbf\\xae\\xbe>i^SraoU\\xd8\\xd3\\xaa\\xe9\\xd2\\xc6\\xdc\\xb1\\xff\\x00\\x073&\\xe4\\xdav\\x98\\xf5+\\xa6d\\xdb\\t\\xbb\\xa5.MX\\xf7J6\\xcen\\x9d\\xa75}\\xce\\xb6\\x16\\x9aG//\\x1b\\xa3\\x0c\\xb6\\xb8.j\\x9b\\t\\xc6\\xff\\x00\\xb7\\x93L`\\x9b\\r\\xe3G-\\x9ai\\xe5\\x1b\\xfaf\\xbb}c\\x9b\\xfa\\xd2\\xfeN\\xee\\x1c\\xa9\\xaa\\xb3\\xc7J2\\xc7%8:\\x94yL\\xef\\xe8u?7\\x1a~|\\x9bqrk\\xa7\\x9d\\xf2\\xb8\\'\\xb8\\xec\\x96+\\x1c\\xb7!\\x87d\\xbby\\xb6ie\\x10\\x80HB\\x10\\x02\\xca\\x91`\\xc9\\x80\\x04\\xbb\\x82\\\\\\x80\\x93\\xa4M\\\\b\\xea\\x19\\xe3\\x8f\\x0bm\\xd1\\xf2\\xce\\xb5\\xf3\\xf2u\\x0c\\x8e\\x16\\xe3v\\x99\\xf4.\\xb1\\x9e\\x11\\xc7%&\\x8f\\x1b\\x92p\\x9eF\\x97\\x83\\x8f\\x93\\x93\\xfd=\\x1f\\x8d\\x8f\\x8c\\xdb\\x87\\x8b\\x06\\xa5\\xb5\\xc3Gc\\xa5b\\xcd-BR\\xbaF\\xbcx\\xe1\\xe2\\x8e\\xa7N\\xd3G\\xe6\\'F7/\\'FY\\xf4\\xf5\\x1d/\\x1e\\xcd2\\xf57\\x99\\xf4\\x91\\xd9\\x89qC\\xec\\xef\\xe3\\xeb\\x17\\x93\\xc9w\\x95Yv\\t|.\\xfc\\x9a!k\\x92\\xe9\\x83o\\xd2\\x8bN\\xca\\x84\"\\xca\\x07\\x97*(\\x87h$\\x0e\\xdfp\\xd7b\\xa1Q\"\\xc1A\"\\xe2V.c\\x05M\\x85\\x10\\xb6\\x0b-\\xb0LkH\\x85\\xa0KA\\x02\\xe8\\x84\\xa2\\x16O\\t\\x11\\xb1\\x15\\x11\\xd13llF$*#b#\\x1a\\x8a\\xf4\\rAz\\x02\\x86!\\x1a\\xe3\\x14\\xbb\\x0c@\\xa0\\x90\\x80\\xd0I\\x80\\x82@\\x0cA&-0\\x80\\r0\\x93\\x16\\x98I\\x88\\x18\\x98\\xd8\\xc8\\xce\\x98\\xc8\\xb1\\x06\\xa8\\xc8lY\\x962\\x1d\\x19\\x15+;\\x1a\\x13,\\\\Xi\\x97+;\\x04\\x06LP\\xca\\xaaQ\\xb0\\x88\\x03\\xd3\\x91\\xab\\xe9V\\x9c\\xb1\\xf2\\xbd\\x0f=\\xad\\xe9q\\x9d\\xad\\xbc\\x9e\\xe0\\xcd\\xa8\\xd1\\xe3\\xd4.\\xd5/T-k\\xd3l9\\xac\\xf6\\xf9\\x96m6].Ki\\xb8\\xa3v\\x97.\\xe5h\\xf4\\xda\\xce\\x93I\\xee\\x8ak\\xd4\\xe3\\xfe\\taoj\\xfd\\x85\\x95\\xdc\\xed\\xdd\\xc5\\xc9(\\xf0\\xb7$iK\\xd4\\xcf\\x87\\x8e<\\x9aW\\'\\x16~\\xddv\\xa9\\xc55M\\x8c\\xd0\\xc9\\xe1\\xd4l\\xbf\\xa6B\\xda+s\\xc7%%\\xe0\\xca]]\\xa6\\xcf)\\xa7\\xa6\\xc1#I\\xcd\\xd2\\xe6\\xdf\\x08\\xb5\\xe4\\xe8E\\xda;\\xb8\\xf2\\xdcx\\xfc\\xb8\\xea\\x8a\\xc8B\\x1a\\xb2B\\xca \\x01\\x03\"\\xc1\\x90\\x08\\x06e\\xd5eP\\x83l\\xd3#\\x97\\xd4\\xe5\\x15\\x8aV\\xfc\\x19gzk\\xc77^+\\xe2N\\xa5nJ\\x12\\xbf\\xfe\\x8f1\\x87W\\'\\x93\\x96j\\xebx\\xe5\\xf8\\xc9\\xfdW\\x17\\xd8\\xc1\\xa7\\xd3=\\xc8\\xe5\\xd6:\\xb6\\xbd|$\\x98\\xe9\\xdd\\xd3gmrz.\\x95\\x9e\\xe4\\x8f5\\xa5\\xc2\\xf8G\\xa6\\xe9\\x18\\xe3\\t/S\\x9a~I\\xe4\\xd6\\x9e\\xbbN\\xef\\x12lp\\x8d;\\xbchq\\xeaa\\xf8\\xbc\\xac\\xa7k\\xdc\\x91R\\x97\\x1c\"\\xab\\x90\\x8aJF\\xda\\xe7\\x80\\x92\\xa2\\x90EHKE\\x94Z.%e\\x94Yq\"A QeBX\\xb9\\x8c\\x15\\x91\\x86^\\x84%\\xb2\\xac\\x8d\\x94sZ\\xd9e\\xa2\\x8bEB\\xab!\\x11\\x0bK\\xc1\\xc0tX\\x88\\x8e\\x89\\r\\x8e\\x8b\\x19\\x11Q\\x1b\\x11\\x19\\xb1\\x18\\x85Dbb3\\x10H\\x04\\x12\\x10\\x12a Q`\\x06\\x82L\\x04Z\\x002\\xec\\x0b.\\xc4\\x06\\x98I\\x8a\\xb2\\xd3\\x11\\xb4FC\\xa3#$d6,Ecdd6,\\xcb\\t\\x0e\\x8b.Vv\\x1c@S,\\xbd\\xb3\\x11\\n \\x05N*qq\\x92\\xe1\\x9cmN\\x920\\x94\\x92i\\x9d=Fm\\x91\\xa5\\xdc\\xe3\\xea\\xb3\\xbey1\\xe4\\xcbN\\xaf\\x8f\\x86V\\xb1e\\xc7\\xb5\\xfd r\\x88\\xe4\\xdb\\xeeZM\\x9cY]\\xd7\\xa9:\\x8b\\xe4\\x19\\xbe\\x06}\\xc5\\xcdpf\\'\\xb7G\\xa6\\xe5\\xbcU\\xe5:;X\\x9d\\xc4\\xf3];#\\x86yF\\xfb\\xf2z\\x0c2\\xe1\\x1d\\x9c\\x19<\\xff\\x00\\x97\\x86\\xb2i!VC\\xa9\\xc2\\xb2\\xc1\\xb2\\xc0,\\x19\\x04\\x04\\xbb\\x80\\x80\\x93\\xe0\\xf3\\xfdk:\\x86\\x19\\xfd\\x8e\\xf4\\xdd.O-\\xf1\\x06h,3NIZ0\\xe4\\xf4\\xe8\\xe1\\x9d\\xbe\\x7f\\xae\\xd4\\xc6Z\\x89[\\xf2M>X\\xb6\\xb99\\x1a\\xc8\\xc9jeN\\xd5\\x8d\\xd3o\\xe2\\xac\\xce\\xf1O\\x17\\xa8\\xf4\\xf83C\\x83\\xd3t\\x87\\x19S<F\\x9dO\\x8bg\\xab\\xe8\\x91\\x9f\\xd3m\\x9c\\xb2k$\\xf2O\\xf2\\xf6\\xd8Z\\xd8\\xa8`\\x8d?\\x10C\\x8fC\\x0fO+/k,\\xab%\\x96\\x91\\xa2\\xd0)\\x96\\x99p\\xa8\\xcb\\x04\\xb2\\xe2DYD\\xb2\\x88H$\\n,q+\\x15>\\xc3\\x05d\\x0c\\xbd\\x1c\\xf6S(\\x8c\\xa3\\x9a\\xb5Ze\\xa0BEb(\\x88B\\x17\\xb4\\xbc\\x14F\\xc5\\x8a\\x88\\xe8\\xa2kS\"6\"\\xe22\"3\"1\\x0bA\\xa6#1\\x06\\x85\\xa6\\x12b\\x06\"\\xd0)\\x84\\x80,$\\n,\\x00\\x8a\\xb2\\x14\\xc4\\x12\\xcbL\\x06\\xc9`f\\xa9\\x0c\\x8c\\x8c\\xfb\\x92\\xe4\\xb8\\xe5\\x8b\\xec\\xc9\\r\\xb1\\x90\\xf8H\\xc1\\x0c\\xd1\\xf54\\xc2i\\x81X\\xd9\\x16\\x1d\\x88\\x84\\x86\\xa6\\\\\\xacl\\x19R\\x92\\x8c\\\\\\x9f\\x82Y\\x87Y\\x9e\\x9e\\xdf@\\xcb-C\\xc3\\x1f+\\xa6}N{\\xb6\\xd9\\xca\\xcb=\\xd2\\xee3S\\x96\\xef\\x93\\x04\\xb2T\\xb9g\\x1ey\\xbd\\x8e\\x0e-F\\xa8\\xd0k\\x8342/,/\\xc4A\\xca\\x93L\\xca\\xe9\\xa5\\xc6\\xb4:\\xa1S\\xecZ\\x9d\\xa2I\\xf0N\\x8aMR\\xf1O\\xe5\\xeaq\\xbf^\\x0fG\\xa7\\x97\\x08\\xf2\\xb9\\xe7+\\xb5\\xddrz\\r\\x0e_\\x99\\x8a\\x12\\xf5F\\xfcN\\x7f\\x97\\x8e\\xe6\\xddd\\xf8,\\x08\\xbb\\x89vv\\xc7\\x97Ed\\xb3\\x0e\\xa3Y,i\\xa8\\xa3\\x89\\xa9\\xeaZ\\x8f\\x98\\xe9\\xaa\\xf7\\x90\\xf1\\x99e\\xea\\x15\\xd4\\xee\\xbdV\\xf8\\xae\\xed\\x19u\\x1a\\xfd6\\x9e.S\\xcb\\x15^\\xe7\\x96\\xcb\\xaa\\xcf\\x9e\\x1b^H\\xaf\\xb4\\x99\\x92z\\x08gW\\x96jr\\xf7n\\xbf\\xd9W\\x87\\x96\\xfe\\x93\\xf6a\\xfdj\\xea\\xdf\\x1dh4\\xf8\\xe5\\r6<\\x99\\xf2.>\\x98\\xb6\\xbf\\xc1\\xe15\\xff\\x00\\x12j:\\xa4\\xe5\\xba\\x0e\\x10\\xf4\\xaa=fN\\x97\\xa7\\xc7\\r\\xedA\\xb5\\xee\\xff\\x00\\xfe\\x9ec\\xac\\xce0[V\\xcf\\xb2\\x95\\x99\\xe7\\xc1\\x94\\x9b\\xc9\\xbf\\xc6\\xcf\\xfd{r\\xe1\\x0f\\x98\\xec\\xdf\\x83\\x12U\\xc1\\x8fM$\\xd2h\\xda\\xa4\\xfc\\x1c|\\x96\\xfaz\\xb1\\xbb\\n[\\x91\\xeaz<\\x1bH\\xf2:{sV\\xcfe\\xd1\\xa4\\x94#H\\xc3\\x19\\xfe\\x91\\xcb\\xd6/O\\x85m\\x82\\x18/\\x1b\\xfaPvz8\\xfay\\x99{Yh\\x1b-1\\x90\\xd2\\x0b\\x80\\x11k\\x92\\xe1Q\\xa6\\x10+\\x80\\xac\\xb8\\x95\\x96\\x8a!D$X%\\x8d+\\x151\\x9e\\x05LYz<Ke\\x16\\xcaf\\rP\\xb4\\thp\\xa8\\xc8Q\\x0b\\xd9<,P\\xd8\\x8b\\x88\\xd8\\x89\\xa9\\x91\\x18\\x85\\xa0\\xd0\\x81\\x884-\\x04\\x84f \\xd3\\x16\\x82B\\x06&\\x12b\\xd0V ;\\t\\x0bL+\\x03\\x1d\\x94\\xca\\xb2X\\x050l&\\x03b\\x00\\xce\\xdb\\xc3*\\xefG\\x1d\\xea\\xb2\\xc1\\xb4\\xfc3\\xb5~\\xa7\\']\\x83\\xe5\\xcfz\\\\22\\x9b^\\x16o\\xb1c\\xea;Z\\xdc\\xce\\x8e.\\xa7\\x04\\x97\\'\\x9a\\xca\\xd5:2\\xadK_M\\x9c\\xf9e\\x9e>\\x9d8\\xf1\\xe1\\x93\\xde\\xe1\\xeax\\xa5\\\\\\xa3B\\xeaXR\\xb7$|\\xe7\\xf1\\xf3\\xc4\\xf8\\x93\\xa3T5\\xd3\\xcb\\x18\\xad\\xde\\xec\\xca\\xfc\\x9eI=\\x1d\\xf8\\x98_\\xdb\\xdb\\xe5\\xebX1\\xae\\x1d\\xb3\\x8f\\xa9\\xeaR\\xcb&\\xe2\\xbb\\x9c\\x98Ot\\x93\\x93\\x1c\\xf2F6\\xfd\\x0cr\\xf9Y\\xd6\\x9c\\x7f\\x1b\\x0c;\\x86O4\\xe7\\xe1\\xb3&|\\xab\\x1f\\xd5)%\\xec\\x06}s\\x82\\xa8\\xd6\\xef\\xf4rrf\\x96Y\\xb7)X\\xb1\\xf2\\xca\\xed\\xbf\\x96\\x9a\\xb2j\\xf2\\xe6\\xfac\\'\\x18\\xff\\x00\\xb1\\xbaw<S\\x8e\\xe96\\x9f\\xa9\\x97\\x14\\xd4U\\xba\\xe0\\x91\\xd4\\xbc\\xb9\\xe0\\x93\\xf2ie\\x89\\x96\\xda\\xf4\\xd8\\xa5\\xba)\\x8d\\x95UY\\x93\\r\\xc6\\n\\xd9o->Ys\\xd3K\\x8e\\xe8\\xe6\\xae\\xce\\x9fJ\\xc9xT_t\\xe8\\xe5FV\\x9bl\\xd9\\xd3\\xb2\\xa8e\\xda\\xdfsL.\\xab.|7\\x8b\\xd2c\\x97\\x01\\xb7\\xc1\\x9b\\x0eN\\x079pvczx\\xb9MW?V\\xfb\\x9c-L\\x92\\xc9\\xfd\\xbf\\xba;:\\xa9\\xabg\\x17<\\xbe\\xbe\\xf2\\xfd\\x91\\xdb\\xf1\\xe3\\x0e\\x7fJ\\x8c\\xd7\\xea\\x8f\\xfe\\xa3\\xa3?\\xfbG\\xff\\x00Q1o\\xd7\\'\\xf0\\x86\\xc5\\xff\\x00\\xda\\x7f\\xfa\\x9d\\x8e2\\xb5\\xb9\\x12\\xc0\\xfe\\xa8\\xff\\x00\\xeax.\\xbb\\x956\\xd6\\xe8?\\xb4Z=\\xde\\xb7\\x9c/\\xea\\x97\\xfe\\xa7\\x8a\\xebX7\\xa6\\xf7\\xca_\\xf8R\\xff\\x00G7?\\xa7o\\xc4\\xfc\\xa3\\x97\\xa3\\x9d\\xd1\\xd6\\xc4\\x939\\x1ax\\xbcl\\xeb`\\x95\\xaeO\\x1b\\x9b\\xde\\xe3\\xdd\\x8d\\xda|qsJ\\xcfa\\xd2\\xa0\\xa3\\x08\\xd1\\xe4\\xf4\\x91\\xdd\\x91\\x1e\\xbf\\xa7*\\x8cL\\xb8f\\xf2e\\xcfzw`\\xfe\\x90\\xecL\\x1f\\x01\\xd9\\xdf\\xae\\x9ey\\x88$-0\\x90\\x151\\x06\\x80\\x88E\\xc4\\xd1\\x04\\x81E\\x97\\x12\"\\xca\\xb2\\x14B!E\\x8c\\x96\\xc4\\xcch\\xa9\\x93\\x97\\xa3\\xc4\\xb6Ql\\xa3\\x06\\x88Z\\x04\\xb48\\x06B\\x88Q<<F\\xc4Z\\x18\\x81f \\xd0\\xb41\\x08\\xc4\\x82@\\xa0\\x90\\x18\\xd0h\\x04\\x12\\x10\\x12-\\x02\\x12\\x11\\x89\\x16\\n\\t\\x00Z,\\xa4Z\\x10F.Ch\\t \\x05\\xf6\\x13\\xa9\\x87\\xcd\\xc1$\\xfd\\x074\\x0b\\xe5P\\x83\\xcajn\\x16\\x8eNg\\x91\\xce\\xe2\\x99\\xdd\\xea\\x18\\xf6\\xea\\\\L\\x12\\xbeTc\\xfb\\xb4c\\xc9\\xd4t\\xf1\\xdd\\xb2\\xa8NPNj\\x98\\xe8d\\x8e(+e\\xcb\\x1eYD\\xc7\\x93\\x1c\\xe3\\xdd\\x9c\\x96y^\\xddX\\xd6\\xecZ\\xb7)\\xd5\\x87\\x9b]/\\xcb\\x1e\\xc77\\x1a\\xa89\\xfa\\xf01F\\xa2\\xfc\\x8a\\xf1\\xe3\\xb5\\xdc\\x95\\xa9\\xd65\\x17\\x15\\xcc\\x9fvaZ\\x8c\\x89\\xf3\\xc0\\xf7\\t9~R\\x9e>/k7\\xc7\\xc7\\x19\\xa6\\x19ei9u\\xf2\\x8aQ\\xa7o\\x83\\xa1\\xd2\\xe1/\\x9d\\x1c\\x93_dr3\\xe9\\xe5)\\xa9r\\xab\\xc9\\xdc\\xe9MJ*)\\xdb]\\xd8\\xf951\\xe9\\\\wOJ\\xa7\\xff\\x00\\x1d\\x98\\xf2\\xceN}\\xf84\\xc5\\xed\\xc6\\x8c\\x92\\x97\\xfc\\x94\\x97&8\\xba\\xe569\\x1a]\\xc3\\xc3\\xa8p\\xc9\\x19\\xab\\xe1\\xd9\\x9f%\\xa8\\xfb\\x97\\x8f\\x1c\\x9b\\x824\\x16\\xeej\\xba\\xab\\xe2xau\\xf2\\xaf\\xff\\x00 e\\xf1{\\xf1\\x81W\\xdc\\xf3\\xda\\xbc\\x12\\xc59R\\xa6s\\'9\\xa94\\xe4\\xd3&rgo\\xb75\\xf8\\xfcw\\xdcz|\\xbf\\x12\\xcam\\xbf\\x94\\x97\\xeea\\xc9\\xd7b\\xe4\\xf8\\xe7\\xdaG\\x158\\xb7Rw\\xfb\\x97\\xb7\\x1c{\\xae\\xfd\\x92F\\xb8\\xfc\\x8e\\\\\\x7f\\xe9\\x17\\xe2p\\xdfx\\xba\\xf1\\xeb\\xb7\\xdb\\x1c\\xff\\x00\\x969u\\xda\\\\\\xe3\\xc9\\xfc\\x9c\\x98&\\xd7\\t\\xa4VL\\x98\\xe1\\xc2I\\xcb\\xdb\\x91\\xcf\\x99\\xcd\\xbe\\xaao\\xc1\\xe0\\xbf\\xf2\\xea\\xe6\\xeb\\x8ax\\xdcc\\x0c\\x8d\\xbf\\xfb\\x1c\\x9d^w\\x9e-}k\\xff\\x00+\\x0f\\x1e\\x97.u\\xba_L}\\xc7-\\x14b\\xaa6\\xd8g\\xf3y/V\\x8c>\\x17\\x16\\x1d\\xe3\\x1c\\'\\x8aQ|.\\r\\x1ay=\\xc9K\\x83^\\xa7F\\xea\\xdf\\x0c\\xc2\\xb1\\xce\\x12\\xe19}\\x88\\x99\\xcc\\xe3o\\x1d;\\xfa\\x17\\x15%\\x7f\\xb1\\xea\\xb4-\\xb8\\xa3\\xc7\\xf4\\xc57%\\xdb\\xf7=\\x86\\x85}\\x0b\\xea\\xbf\\xb0p\\xcdW/;\\xaf\\x07\\xc0\\xc4\\xc4\\xc1\\xa4\\x86&v\\xb8\\x8cL4\\xc5\\xa6\\x12`\\r\\x8b\\r1q\\r2\\xa2h\\xd1h\\x14\\xcbE\\xc4\\x8c\\x96Qe\\x12\\xcb)\\x168H\\xc5M\\x8c\\x171e\\xe8\\xe1l\\xa22\\x8c\\x16\\x85\\xa2\\x88\\x82\\x01\\xa2\\x14B\\xc9\\xe2\\x90q\\x16\\x86D\\x16j\\r\\x0bC\\x10\\x8cH4\\x02\\t\\x08\\xc6\\x82\\x01\\x04\\x80\\x08\\xb2\\x91b1\\x16\\x8aA %\\x84\\x8aA$#J\\x05\\xa0\\xc8\\xd0\\x11\\x12B\\xa5\\xc1\\xa2HFE\\xc3\\x11\\xb9\\x19\\xe1\\xf33Jm\\x19\\xbeB\\xbeWp\\xf5\\x1a\\x89C$\\x929\\x9a\\xbe\\xa5\\x93\\r:\\xfd\\xe8\\xe5\\xe4\\x99_N\\xae=GC.\\x05\\x18pr\\xb5\\x8a1\\xdc\\xfd\\x17\\xf91\\xe7\\xf8\\x81\\xb8R\\x97\\'=\\xeb\\xf2\\xea-\\xdb\\xaf&x\\xf0\\xe5\\xee\\xb5\\xfb#L\\')5\\x1f\\x1d\\xce\\xae\\x83J\\xf3\\xc1\\xc9\\xf6\\xb3\\x87\\x8f.\\xc7\\xba]\\xd9\\xbf\\x1fY\\x8e\\x97\\r9$\\x91Y\\xe1o\\xa13\\x9f\\xb7o\\xf0X\\xa2\\xeb\\xbb\\x15=\\x1c=\\x0e6?\\x8a0K&\\xc8\\xca\\xe4\\xcd\\xb8\\xb5\\xf93\\xcf\\xb3\\xa3;\\xc7\\x9e?\\x91\\xcc\\xa5\\xf49\\xe8c\\'Mph\\xd3i\\xb1\\xe9\\xff\\x00*)\\xe6i\\xaeU\\x12Z\\xa8\\xd7-\\x19e\\x96W\\xa5\\xc9\\xa6\\xf5.;\\xf0;G\\x81N.r]\\xd9\\xcd\\xfcD~[i\\xfbru\\xf4\\xb9\\x14t\\xc9\\xda\\xeck\\x8f\\xa6\\xff\\x00\\xa0\\xe5\\xc1\\x17\\x921^F|\\x95\\x8ep\\x17\\x1c\\xeaZ\\x98\\xf2^\\xb3P\\xa3T\\xc6\\x08\\xeb8waR\\x8f\\ryG\\x96\\x94k\\'\\xd5\\xf5?W\\xe0\\xf4\\xba\\xbc\\xeezwW\\xca8\\xaa\\xdc\\xa9\\xa4-\\xe8kD<pj\\xd3\\x93~\\x81E$\\xbbW\\xdc*\\xf9n\\xe9X\\x1b\\xdc\\xf2R\\x17\\xb2\\\\\\xb2\\xd2k\\xb0ZHFr\\xdd\\\\\\xfa\\xb1s\\xc7o\\x9e\\xc3\\xf4\\xce1V\\xdf\\xec\\x19~=\\r\\xba\\n\\xd2ir\\x0b\\x9cb\\xfe\\xa6\\xdb\\xf6\\n9`\\xa1J<\\x89\\x92\\x94\\xdb\\xa4`\\x9a\\x93\\x9c_\\x0e\\xa8\\xe6g\\x7fS\\xda\\xcds\\xc6\\xd7\\x936h\\xab\\xb3^=JFh2m\\xca\\x93\\xb7\\xec{=\\x04\\xe4\\xe0\\xb8<\\xafK\\x9cVN \\x97\\xb9\\xeb4yn(\\xec\\xe1\\x9f\\xb7\\x0f\\xc8\\xc9\\xd4\\x83\\xe1\\rRH\\xcd\\x19Z\\xee1Iz\\x7f\\'Ur4){\\x06\\x98\\x88\\xc8lX\\x8c\\xe8\\x8cB\\x93\\r\\x0e&\\x98\\x98H\\x04\\xc2F\\x91\",\\x10\\x91D\\xb4X(!\\x921S\\x18*d\\xe5\\xe8\\xf1-\\xb2\\x10\\xa3\\x05\\xa1k\\xb8%\\xa1\\x81\\x90\\xae\\xe4(\\x9e*#\"\\x02\\x19\\x145\\x0e#\\x10\\x084#\\x12\\r\\x00\\x82B1\\xa2\\xd0($ $Z)\\x04\\x80-\\x06\\x81A \\x02A BB\\x0b#DE\\x80.HNEi\\x9aZ\\x15$\\x01\\xe7\\xb5\\x90\\xf9y\\x9bk\\x83\\x16\\xa7\\x16<\\xf8\\xea\\x91\\xdf\\xd5\\xe9\\x96X\\xbfS\\x8f-<\\xa3:h\\xc7\\x93\\x1e\\xb7\\x1b\\xf1\\xe5\\x1eo?GJNk\\xc7\\xb0zn\\x9e\\xb6Wn|\\x1d\\xedD\\\\pJ\\xf8\\xe3\\xb9\\x8fJ\\xbe\\x9bg.\\\\\\xb9I\\xa7N8K\\xdb\\x02\\xd0G\\xe77.\\xc9\\x19r\\xf4\\x97\\x9a\\xd6\\xde\\xef\\xca:\\xd9%\\xff\\x00&\\xdf\\x06\\xc86\\xa0\\x94b\\x89\\x9c\\xd9E\\xfdq\\xc7\\xe9\\x7f\\x0c\\xe9\\xb4\\xd9>~v\\xaf\\xbd\\x1d\\\\\\xf9pc\\x83\\x8e,k\\xeeVX\\xca\\xael\\xe5\\xeb3\\xbcI\\xedNO\\xd8\\xab\\x96|\\x97\\xb4jb\\xac\\xcb#{\\xf7~\\xc6u\\x99)6\\xe5u\\xe8dz\\x8dV\\xa2[\\x14$\\xa2e\\xd6gzxl\\x8b\\xb9\\xbfFo\\x8f\\r\\xbd\\'\\xcd\\xb9\\xf5)K<q\\xc5\\xf1g\\xa1\\xc3\\xac\\xbc\\n;\\x8f\\x17\\xd3\\xf1\\xe4\\x9c\\x9eI\\xa7f\\xf9\\xear\\xe3t\\x9f\\x05g\\xc5%\\xd4t\\xe1\\x97]\\xbd\\x17\\xe2\\x94sZ\\x97ay\\xfa\\xacg%\\x0e\\xed\\xb3\\x91\\x86r\\x94\\x1c\\xa6\\xf9f_\\x9b\\x15\\xad\\x85\\xbe,\\x89\\x86\\xea\\xfc\\xe3\\xd7\\xa9\\'\\xa5r\\x9b\\xf0s2e\\x8cyRH\\xd9\\xf3\\x13\\xd0\\xbe|\\x1cY\\xc9\\xbbL\\xc7\\xc7t\\xb3\\xba;&x\\xc9]\\xd8\\xbcY\\xbe\\xa7\\xe9\\xec#\\xdd\\xdb\\xfb\\x1a0(\\xaev\\x97q\\x92&]\\x89\\xcay-\\xae\\x111\\xdc#\\xee6\\xd6\\xde\\xdc\\x89\\x9b}\\x99\\x13\\xbe\\x85\\xad\\x983z\\xb3O\\xce}\\x91\\x87\\x02\\xe5%\\x13\\xa5\\x8f\\x0c\\\\y\\\\\\x99e$\\xa5\\xb6,\\xd3\\x92V\\x932\\xcd\\xfdI\\xf7:\\xd3\\xd3n\\xb4\\xbb\\x183\\xe2X\\xd3T<2\\x9e\\x88z\\x07\\x15\\x9b\\x87\\xfb\\x1e\\xa3G5H\\xf2\\x1am\\xd1\\xcdk\\xd4\\xf4\\xda+\\xa5n\\x8e\\xae,\\xb5t\\xe6\\xe7\\xc7}\\xbbp\\x90\\xd8\\xc8\\xcb\\x8e\\\\!\\xd1g[\\x8bM0\\x90\\xf8\\xb3,\\x19\\xa6\\x0f\\xb0\\x1bDCB\\xa2\\xc6!\\xc4\\xd3\\x10H\\x04\\x1a. E\\x82]\\x96BE\\x83eoK\\xc8\\xc8o\\xb0\\x99\\xb0\\xf7&&sWK\\x96Fw\\xa5c\\x14\\xca\\x05\\xb9\\xfe\\x94\\xbfrn1Z\\xcbU`\\xf2Z\\xf7c1\\xd9\\nTB\\x92\\xf1\\xa8d@\\x88\\xc8\\x81\\x8d\\x06\\x81\\x88H\\x0ch\\xb4\\nd\\xdc\\x97v\\x84c\\t1[\\xe1\\xfa\\x97\\xf2\\x12\\xc9\\x0f\\xd4\\xbf\\x90\\x06\\xa0\\xd0\\x95\\x97\\x1f\\x9c\\x8b\\xf9\\rf\\xc5\\xfa\\xd0\\x81\\xc8$#\\xf1\\x18\\xbfZ\\x0b\\xf18\\xbfZ\\x00z-\\x08\\xfcN\\x1f\\xd6\\x89\\xf8\\xac?\\xad\\x00h-\\x19\\xd6\\xaf\\x0f\\xebE\\xfe3\\n\\xfe\\xf4 \\xd1@I!/[\\x83\\xf5\\x81-v\\x0f\\xd6\\x00s\\xa3.x\\xad\\xaeJ\\x97\\xbbA\\xfe3\\x03t\\x9blV]f\\x9aV\\x9c\\xb7?\\xf0\\x85f\\xe1\\xcb\\xa7+V\\xdc\\xa0\\xd2i\\xaf_\\x07!\\xea\\xe1\\x85;\\x96\\xe4\\xbd\\x0e\\x9e\\xb9\\xc7*\\xddn\\xbcF<\\x1c-da\\x18\\xdc\\x95{\\x1c\\xf7\\x82_n\\x9c9lH\\xe7\\xf9\\xd9\\xf7\\xc7\\x9fDu4\\xd9|>_\\x93\\xcbf\\xeak\\x1f\\xd1\\x85W\\xdb\\xb9\\xd3\\xe9k>\\xa7\\x1ar\\xb6\\xdf\\x86\\xc9\\xcf\\xe3V\\xb3\\x9bn\\xde\\xa5A\\xe3\\xdd\\xeb\\xeeq5S\\xc2\\xaf{\\\\xH\\xed\\xed\\x8c1\\xa8\\xce\\xaf\\xd4\\xe5kt\\x98\\xe4\\xdb\\\\?F\\xff\\x00\\xd1||^,s\\xcfo5\\xd4:\\xa4\\xa1x\\xb0\\xe3q^\\xab\\xb9\\x83L\\x9ei\\\\\\xe4\\xee\\xfc\\x9d\\rN();V\\xbf\\xd1\\x8aY\\x16\\'\\xc2;1\\xd7\\x8e\\xa4_\\x1e3\\xddua8i\\xf1\\xd0\\x9c\\x9a\\x85\\x92^\\xc7;\\xe6f\\xc9\\xec\\x86C\\x0eY>\\xfc\\x11\\xf5\\xc9\\xdd\\xae\\x8d\\xc6\\x9c\\x9a\\xb6\\x95&\\x04\\xb77\\t\\xa4\\xdd0\\xe1\\xa1\\x96L\\x89r\\xcfG\\xa6\\xe8\\xeax\\x97\\xd2g\\x96x\\xe1\\xe9\\x19Zn\\x86p\\xcb\\xa0nmp\\xbb\\x19\\xf2c\\xdd\\x16\\xd2:8:j\\xc3\\xc3Ae\\xc0\\xaa\\x91\\xc7\\x9d\\xb3\\xb5\\xfd\\x9eN*\\xc35\\xe3\\xb8\\xfcpiv\\xff\\x00\\x03\\xe7\\x8d\\'\\xcb\\x16\\xe4\\x9c\\x92R\\xfe\\t\\xb9Zc\\x8e\\x1b]\\xe9}\\x80zx\\xee\\xb4\\xf7?C^\\x18\\'\\x0f\\xaa\\x7fd^D\\xe1\\x1e)!c*r\\xc8\\xbcOg\\x0b\\x8fcn9\\xa5\\x1a9\\xdb\\x92\\xeej\\xc1=\\xee\\x8c\\xf2\\x8a\\x8d\\xd1\\xc7p\\xbb\\xa4d\\xcf\\x08\\xb7\\xf5!\\x992\\xc9}1k\\x836I\\xb6\\xf9\\xab&A\\xb2\\xe3\\x18\\xee\\xb8\\x9d\\x9d\\x1f\\xe5G\\'\\x06)9\\xdd~\\xe7gM\\x19Ax:\\xb81\\xdds\\xf3e\\xd3\\xa5\\x8d\\xbd\\xa3\\xe0\\xcc\\xb0|\\x1a1\\xb3\\xbf\\xf4\\xe2j\\xc6\\xcd0fLf\\x98\\x00h\\x8b\\x18\\x85E\\x8cC\\x85LA\\xa1h4\\\\E\\x12#m.\\x13l\\xab#\\x93\\xda\\xd4ye\\x13\\x9f\\xab\\xd6O\\x1c\\x1a\\xdc\\xa2\\xfd\\xbc\\x1c<\\xdd~\\x1ay\\xa4\\xf2K\\xf7:\\xda\\xdc\\nI\\xb6\\xe5/\\xff\\x00^\\x11\\xe4\\xba\\xa6\\x9a/uF\\x89\\x9d\\xb4\\xd7N\\xca\\xf8\\xb3\\x14\\x12\\xfa\\xd4\\xb9\\xa1\\xab\\xe2\\xac\\x12\\x92\\x8d\\xc6\\xdfe\\x13\\xe7\\x1a\\x8cn2j\\xdd#*s\\x84\\xb7BRO\\xd8\\xd3\\xeb\\xda<\\xb4\\xfa\\xc2\\xeb\\xb8R\\xbc\\x92\\x8cW\\xac\\x98\\xd8u\\x9d6X\\xdc&\\xda\\xf5\\xaaG\\xc8g\\xa8\\xce\\xe7\\xbay%\\'\\xff\\x00f3\\xfa\\xa6\\xa5R\\x9c\\x9c\\xe2\\xbc]\"~\\x93\\xf3\\x8f\\xaf\\xe3\\xea\\x18\\xb2~Y\\xa9}\\x9d\\x8f\\x8ehI\\xf2\\xeb\\xee\\xcf\\x91C\\xe2mf*I-\\xab\\xb2]\\x8d\\x98\\xfe-[S\\xcd)o^\\x17b>\\xac\\xa0\\xf3\\x8f\\xabo\\xe3\\x86\\x88|\\xd7\\x17\\xc78#\\x04\\x9b\\x97\\xf0A\\xf8e\\xfc\\x1eQ\\xddC\\x10\\x11\\r\\x12cB5\\x1a\\xe8`O\\x8d\\xcd\\x0en\\xa2\\xce.\\xb3\\x9b\\x1c\\xec\\xd95\\xbf\\x10dRj*\\x8c\\x0f\\xaff~\\xa6]r\\xfa\\xcc&\\xb3\\t\\xa6w*\\xec\\x7f\\\\\\xcd\\xe8O\\xeb\\x99\\xd9\\xc8.\\xc3\\xc6\\x0f*\\xeb\\x7f[\\xcf\\xeaO\\xebz\\x8f_\\xf2rK\\x0f\\x18<\\xab\\xab\\xfdoQ\\xe1\\x95\\xfdkR\\xfc\\x9c\\xb2\\xd0\\xbc`\\xf2\\xae\\x9f\\xf5\\x9dO\\xea/\\xfa\\xc6\\xa7\\xf5\\x1c\\xce\\x11v/\\x18{\\xae\\x8f\\xf5mK\\xfe\\xf2\\x7fT\\xd4\\xfe\\xb3\\x9eZ\\xe45\\x06\\xdb\\xd7R\\xd4\\xcb\\xfb\\xdf\\xb2\\x1a\\xb5\\xb9\\xeb\\x9c\\x9d\\xbb\\xbf\\x08\\xc0\\xaa\\n\\xef\\x9f\\xf4/&G.\\x17\\tx\\x16\\x86\\xdb\\xa5\\xd4\\xf5\\x19?\\xe3\\x84\\xda\\x87\\xf9\\x7fsn\\x9eYeX\\xf76\\xdf\\xe6~\\xe7+O\\x1d\\xabs\\xef\\xe0\\xee\\xe81l\\xc7\\xf3$\\xbe\\xc4\\xe7f1X\\xcbkNj\\xc5\\x8a\\xdb\\xec\\x8f?\\xac\\xd5\\xe3\\xca\\xdc$\\xe9\\x9a\\xfa\\xa6\\xb7lZN\\x8f\\x11\\xd4\\xb5RsmI\\xd9\\x8f\\x167<\\x9dW\\xa8\\xedCM\\x0f\\x9b\\xb9S;Z\\x0e\\xa7\\x83F\\xa5\\x85MK+V\\x97\\xa1\\xf3\\x95\\xd45]\\xa3\\x96G[\\xa3h\\xf3\\xbc\\xf1\\xcf\\x92O\\xbf\\x93\\xae\\xf0Y\\xf9VYr\\xddi\\xec\\xf2\\xeb\\xf7\\xcbu\\xfd\\x12\\xe7\\xeca\\xcf\\xaaqn2W\\x1f\\xf4:8!\\x18J\\x1e\\x17(\\xcf\\x91FP\\xda\\xd7+\\x83<\\xae:N;\\xac9\\xa0\\xe5+\\xbb\\x8b\\xec\\xd0\\xa8t\\xd8\\xcd\\xdd\\xdaf\\xa8\\xad\\xafm},\\xd7\\x82\\x12\\x84\\xb9\\x8f\\x1e\\xc7.\\\\\\x97\\x1fN\\x9ca\\x18\\xbaF7O\\x9f\\xd8\\xdb\\x8b\\xa7b\\xc6\\x97\\xd0\\xd9\\xbf\\x0c\\xd2_\\x91~\\xe6\\x8f\\x9d\\x1a\\xfe\\xd3\\x93.\\\\\\xef\\xed\\xbc\\x91\\x8fO\\xa5\\x8f\\xcd_BG\\xa1\\xd3\\xe9~\\x85\\xb5\\x1c\\xbd+R\\xcbgw\\x04\\xd4#\\xdcXKoh\\xcf(\\xcb\\xa8\\xc5(\\xdf\\x14\\xce.\\xaf4\\xa0\\xda\\x93\\xe3\\xd5\\x1dn\\xa1\\xabT\\xe8\\xf3\\x1a\\xbdV\\xe95\\xc3^\\x8c\\xd6\\xe1jq\\xc8\\x19u.\\xdb\\xddec\\xc8\\xa5;\\x7f\\xb1\\x86y\\x14\\xa4\\xa9\\xd7\\xb0Q\\x96\\xd7\\xde\\xd1_^\\xa3O7\\xa6\\xc2\\xd2\\xc2\\x9bI\\x99\\xb3\\xe4\\xdd\\xdc\\xcb\\x8bT\\x96\\x0f\\xcdM{\\x97\\x1d\\\\2\\xc2\\xadYXq[=0\\xcb\\x92J]\\xfdWn\\x8d8\\xf3(\\xc6\\x95\\xa5\\xea&8\\xdc\\xdf\\n\\xbf\\xfb\\x1f\\x8b\\xa7O\"\\xa87\\xc9\\x8f\\'\\x1e\\xbd\\xb5\\xc7=\\xc5\\xcbT\\xbbG\\x96\\x14\\x14\\xa4\\xd3\\x97-\\x9d-\\x0f\\xc3\\x19\\xf2\\xc9JsJ>\\xa7\\xa4\\xd2\\xfc=\\x8b\\x14R\\xe2O\\xd4\\xcf\\xc7}C\\xbc\\x92{yh7\\x8a<\\xc5\\xfd\\xa8\\xa9\\xf5\\x19c\\xf0\\xd2=f\\xa7\\xa5\\xe1\\xc5\\x1eR<\\x87\\\\\\xf9x\\xe3$\\x92;81\\xd3\\x9b\\x979\\x97q\\xa3\\x0fY\\x8b\\xabi\\x9d\\x1c\\x1dO\\x1c\\xbb\\xff\\x00\\xb3\\xe7_2jm\\xc6M\\x1aqks\\xe3\\xed;;.\\x0ei\\x9b\\xe9\\xb8u\\x98\\xa5\\xda_\\xc9\\xbb\\x1c\\xe3.\\xd2G\\xcd0u\\x9c\\xd0\\xee\\xac\\xeai\\xfe K\\xf36\\x88\\xb8\\xd8\\xad\\xc7\\xbf\\x8b\\x1b\\x16y\\r?\\xc4\\x11uY?\\xc9\\xd4\\xc1\\xd7#%\\xcc\\x93\\rSw\\x93\\t\\x1c\\xdc]O\\x14\\xfb\\x9a\\xb1\\xea\\xf1O\\xb4\\x87\\x13cU\\x83)p\\xe9[\\xf7\\x05Mxi\\xfd\\x98\\x193B\\x1d\\xa2\\xe5!\\xdaZf\\xd4)N\\x0e\\xdc\\xda\\xff\\x00\\xaf\\x08\\xf3}C\\x12\\xe5+W\\xfa\\x99\\xe8\\xb2K4\\xe1\\xban1\\x8f\\xdc\\xe6\\xeat\\x8eqsy\\x1f\\xec\\x88\\x95o\\x13\\xae\\xc1\\x18J\\xed6r\\xf2s\\xdb\\x83\\xd3k\\xf0cV\\x9c[\\x7fc\\xcf\\xe5_\\xf24\\x97\\x08\\xe8\\xc2\\xed\\x9eSLR\\x87\\xb0\\xa9Ey4\\xce\\xdbv\\xc4\\xc9+\\xf55Ef\\x9aI6c\\xcd5\\\\#veq|\\x1825cMgm\\xdf4@\\xf7{\\x10\\xa4\\xbe\\xbc\\x83LZ\\r\\x1c.\\x91?\\xca\\xceN\\xadw:\\xaf\\xb1\\xcc\\xd5\\xae\\xe3\\xc4W\\x9b\\xd7\\xc7\\xb9\\xcd}\\xce\\xae\\xbdp\\xce<\\xa5\\xc9\\xbc\\xf4\\xca\\x8e\\xc8\\x9d\\x8b\\xb2\\xd3\\x022\\xcb\\xb0\\x13.\\xc4b\\xb2X;\\x89`\\x07e\\xd8\\x05\\xa1\\x01\\xee\\x19\\x8d6\\xf8V\\xfd\\x05#\\xdb|!\\xf0\\xfc5\\x19#\\xab\\xd4\\xa4\\xe2\\xb9\\x8c_\\xfb\\x05N\\xdc\\xfe\\x99\\xf0\\xae\\xb3_\\x15\\x97*x\\xf1\\xbfU\\xcb:\\x8f\\xe0e6\\x94e+\\xf5>\\x8b\\x18b\\x865\\x18\\xa4\\x89\\xba\\x10^\\x0cr\\xcf_\\xb12\\x9f\\xc7\\x88\\xc3\\xf0V\\x9fOS\\xcf\\x96R\\xaf\\x08\\xc7\\xd5\\xe1\\x1d.\\x19G\\x04)${>\\xa1\\x96\\x0e\\x0f\\x95g\\x83\\xeb\\xddO\\x1e(\\xce\\x12\\x92G&y\\xdc\\xae\\x9d<^\\xb6\\xf0\\xddKU)\\xceI\\xf78\\x19\\xa3,\\x92\\xa5\\xcbgG]\\xa8\\x8e\\xa7P\\xd6.[\\xee\\xc7\\xe94\\xd8\\xa1R\\x93NGo\\x14\\xf0\\xc4\\xb3\\xcd\\x97\\xa7t\\x84\\xa7\\xf32\\xab\\xf4G\\xa0\\xc5\\x8a8\\xe2\\xa9P\\x18\\xe4\\xb8H\\xdd\\x1d;\\x94W\\x14\\x87\\x9eW\\xdde;\\xa0\\xf9\\xd5\\xb5\\xfe\\xccT\\xdbS4\\xad\\x04\\xe7\\xd9:\\xfb\\x0e]3+\\x97frrr:x\\xf0c\\xc7\\x87|\\xac\\xdd\\x8f\\x02\\xdb\\xdf\\xb0\\xdf\\xc2K\\x1a\\\\r[\\x8dG\\x96\\x8eK|\\x9b\\xfa\\x03j\\x11\\xab\\x12\\xdb\\x97\\xd8\\xac\\x99#\\x1b[\\x8c\\xb95P\\x87\\x93^>\\x1b\\x93<\\xf9$tp\\xe7X\\xdfs[\\xea\\x15\\x0e\\x1f\\'\\x9c}G\\x1a}\\xc4\\xe7\\xea\\x91WL\\xeb\\xc7\\x83Nk\\xca\\xec\\xea\\xf5\\xe9\\xf2\\xd9\\xc1\\xcf\\xaf\\x8f\\xcdnT\\x8e~\\xab\\xaa\\xdaj\\xce\\x16\\xab])>\\xe7G\\x1f\\xc7\\xdb,\\xb9\\xaczg\\xab\\xc4\\x9e\\xe5%_\\xe8^^\\xa9\\x8bmnG\\x90z\\xec\\x91N6\\xe9\\x99\\xa5\\xa9\\xc8\\xdf\\xe6tm\\x8f\\xc1\\x9b\\xddF_*\\xe9\\xeb\\xf0\\xf5<\\xd9\\xb3,\\x18\"\\xe7)p\\x94|\\x9e\\xcf\\xa2|\\x1b\\xae\\xd5\\xc69uY%\\x89w\\xda\\x97\\'\\x9d\\xff\\x00\\xe3-4rk2j\\xb2%&\\x9a\\x8co\\xc1\\xf6\\xcd6\\xb7\\x0e<\\xd1\\xc6\\xdam\\xae\\x129~O\\'\\xd5\\x97\\x86+\\xe2\\xc3\\xcf\\x1f*\\xe2i>\\x0e\\xda\\x94T\\xe6\\xeb\\xcc\\x8e\\xd6\\x9b\\xe1\\xac8Zr\\xdd\\'\\xeev\\xf0\\xe7\\x8b~\\x10\\xcc\\x9a\\x88C\\xc9\\xcbq\\x99wi\\xde\\\\\\xe5\\xd4\\x8cx\\xf4\\x18\\xb1\\xa5Q\\nJ0\\\\v&]^8\\xa6\\xe54\\x97\\xbb<\\xd7Z\\xf8\\xbb\\xa6t\\xf8J2\\xd4\\xc1\\xcf\\xc4b\\xed\\x93\\xa9\\xeb\\x11<\\xb2\\xfc\\x97\\xd65\\x9bw+\\xe0\\xf9\\xe7X\\xd5|\\xdc\\x8d)X]K\\xe2\\x98\\xeb\\xa5%\\x8a3\\xa7\\xe5\\xaa8\\xcf$\\xb2Ks:x\\xb8\\xec\\xee\\x9eyOQh5\\xf6\\x01\\x07\\x13vp\\xc8\\x8c\\x8d\\x8b\\x88\\xc4\\n6.\\x86\\xc36H~Y\\xb5\\xfb\\x88A \\r\\xf8\\xba\\x9e\\xa3\\x13U;\\xfb\\x9bq\\xf5\\xfc\\xe9\\xfdJ\\xa3\\xe8\\x8e*\\xfb\\x97\\xc0\\xb5\\x0fu\\xe8\\xa3\\xf1\\x1c\\xa3\\x06\\xd5\\xa7\\xe1z\\x8d\\xc5\\xf1\\x16\\\\\\x91w\\x95c\\x8a\\xef.\\xef\\xec\\x8f0\\xdf\\x02\\xa6\\xe8W\\x08~U\\xeft\\xddZ\\x19%\\xbf3Q\\x84W\\x1b\\x9d\\xc9\\xfb\\xfb\\r}S\\x1ev\\xe3\\x8e\\x12k\\xf5K\\x84\\x8f\\x9bOS\\x97\\x1f1\\x9bLT\\xfe\"\\xd7a\\xc6\\xe1\\x19\\xa6\\x89\\xfa\\xad\\x1es\\xf6\\xf7:\\xc8\\xe2\\xcc\\xdb\\x96\\xaa\\x1fm\\xd4y\\xedf\\x07ol\\xa3\\xb5yN\\xcf)\\x9b\\xafg\\x94\\x9b\\x9d\\xb7\\xf73\\xae\\xb16\\xfe\\xac\\x92^\\xc6\\xf8\\xf1e\\x19\\xe5\\xc9+\\xd1N1\\x8d\\xf2&M/\\'\\x1e=bRt\\xa5k\\xdcw\\xf5(9S\\xaf\\xd8\\xd3V\\'q\\xaf\"\\xb8\\xb3\\x13\\x82Rhz\\xd4b\\x9a\\xfc\\xd5\\xf7\\x05\\xe4\\xc3\\xbb\\xe9\\x92\\xb6H#g\\xb1\\x06\\xb9/\\x04\\x1e\\xcbO\\xa8\\xa0\\xd0\\xb4\\x1ag#qY\\xce\\xd6wf\\xf3\\x06\\xb7\\xc8\\xe0y\\xdd\\x7ffq$\\xfe\\xa6w5\\xcb\\x86pf\\xeam\\x1a\\xc6uv]\\x81e\\xd8\\xd2;\"`\\x17`c\\xb0\\xac]\\x97b\\x06Y{\\x85\\x97`\\r\\x8c\\xa9\\xa6}\\x0b\\xa4\\xf5\\xbc:}\\x1e\\x1a\\x92I\\xaa\\xfd\\xcf\\x9c\\xdf&\\xacY\\xe7\\x18\\xedR\\xe0\\x9c\\xa6\\xe6\\x97\\x8d\\xd5}7S\\xf1&\\xc8)F\\x7fJ\\xee#W\\xf1?\\xcb\\xc1\\xba2M\\xb5\\xc1\\xe0e\\xaa\\xca\\xe3NV\\x9f\\x81s\\xcd\\x92X\\xb6_\\x07-\\xe1m\\xe55\\xe9\\xd9\\xd6|Q\\xa8\\xc9\\t\\xa5\\x93\\x93\\xc3u\\xee\\xa1\\x9fY%\\'\\x92J\\xb8|\\x9d)\\xc1\\xd3\\xb6r\\xb5\\x987\\x1b\\xf0\\xe1\\x8e9m\\x9eY\\xda\\xe5a\\xce\\xe1\\xe7\\x93~-k\\xe3\\x93\\x9f\\x93\\x06\\xd6^\\x9e\\x1b\\xf5\\x10\\x83uo\\xb9\\xddq\\xc6\\xf6\\xc3woq\\xf0\\xf6\\x8f&\\xbf*\\x9b\\xfc\\xab\\xd4\\xfaWN\\xf8s\\x1b\\x8ce4\\x9b<\\xa7\\xc2O\\x068\\xc6\\x11\\xaa]\\xdb>\\x8b\\xa4\\xd7\\xe1pj-:\\xf2y|\\xd9w\\xa7V2\\xcczL}\\x1bO\\x08\\xf1\\x08\\xff\\x00\\x04\\x97J\\xc5N\\xb1\\xc7\\xf86\\xe1\\xd4\\xc7\"\\xb4\\xd3\\x0eY\\xa2\\xf1M\\xf6\\xa3\\x1f\\x1cj<\\xf3\\x95\\xe4z\\x97N\\x82\\xb6\\x92Tx\\xce\\xab\\xa8\\x8e\\x92\\xf73\\xd6\\xf5\\xbe\\xb3\\x8b\\n\\x9a\\xbf\\xf2|\\xab\\xaeuijs\\xce)*\\xbe\\xe5\\xf0\\xf0\\xf9V\\xd9\\xf2Y\\x13U\\xd6m\\xbd\\x877\\'P\\xc97\\xf9\\x99\\x82rb\\xf7\\x1e\\xa6<X\\xe3\\x1c\\x97+[^\\xaa^\\xa2\\xe7\\x9eR\\xf2\\xc4\\xaeB\\xa2\\xb5\"J\\xc96\\xccy\\x13f\\xd9\\xc7\\x83<\\xa0\\xd9\\xae59b\\xc6\\xe1e|\\xa3V\\xc2\\xd4\\r<\\xd1\\xe0\\xf4?\\x0bu\\xcf\\xe9P\\xf9N.\\xae\\xed\\x1e\\x9bO\\xf1NM\\xca{\\x9e\\xe7\\xf9l\\xf0\\xfa(\\xa5\\xdc\\xeab\\xa6\\xd2<\\xee|1\\xcb-\\xba\\xf8\\xb2\\xb8\\xe3\\xa7\\xd2q\\xfcn\\x96\\x0cx\\xf1\\xcf\\xfeYqo\\xc0:\\xaf\\x8c\\xb5*\\n8~\\xac\\x8f\\xbb}\\x91\\xe21\\xb8B<$2\\x19\\x94]\\x9c\\x7f^1\\xb7\\x95v\\xb5}S\\xa8k\\xef\\xe6\\xead\\x93\\xf1\\x17G&Z\\\\q\\x93\\x93\\xe6^\\xac\\xb5\\xa8u\\xdc\\te\\xbf%c\\xd7\\xa4\\xde\\xc2\\xe1\\x15\\xda\\x88\\x90\\x0e|\\x96\\xa4o\\x8b\\x1b\\rT\\x12@E\\x8cE\\x14\\x1cPh\\x04\\xc2@\\xa3,\\xb5`\\xa0\\x90\\x05\\x97e\\x13\\xf8\\x18]\\x8a\\x98\\xc6.}\\xbb\\x80c\\xcd\\xcd\\x9c\\xdc\\xf0\\xb3\\xa9\\x95w1d\\x8a*\"\\xb991rf\\x9e\\x13\\xab8\\x19\\xe7\\x8f\\xd8\\xdb\\x1c\\x91\\xa72X\\xda\\xed\\xc0\\x1f\\\\yRgBX\\xbd\\x84\\xcb\\t\\xac\\xc9>,\\xcbQ\\x96=\\xe5h\\x9f\\x8cj{\\x9ac%\\x8b\\xd8L\\xb1\\x0ei7mQ\\xeaI/$1|\\xafb\\x0b\\xc3\\x12\\xf2\\xc9\\xf7\\x94\\x12` \\x91\\xe6;V\\xccZ\\xc3cfM_1\\x18y\\xedj\\xb8\\xb3\\xcf\\xe6\\xe3#=\\x1e\\xb1p\\xcf9\\xa9U\\x90\\xd3\\x16y\\x02\\xc8\\x98\\t\\x96\\x8aH\\xec\\xbb\\x05+\\x0b\\x80\\x0bL\\xb4\\xc0\\xdc]\\x88\\xc7d\\xb0, \\x03Ld%LJa)\\x08\\xda\\xb7pS\\x98\\x9d\\xe4r\\'G\\xb1N\\\\\\x18sF\\xcd.Brr9\\t\\xcb\\xcd\\x8a\\xec\\xc9,n2\\xb5\\xc3GS$n\\xcc\\x99 \\x8d\\xf0\\xc95\\xd2\\xe9\\xbds.\\x8b\\x17\\xcb\\x8d\\xb95\\xdd\\x9e\\xb3M\\xf12\\xd3\\xe8\\x147\\xb9M\\xfa\\x1f?\\x8aVk\\xc6\\xd2F\\\\\\xbcx\\xe4\\xd3\\x0c\\xec}?G\\xf1t0\\xe8\\xa2\\xdc\\xed\\xd7k0e\\xf8\\xd7R\\xf2\\xc9)T\\x1a\\xec\\x8f\\x15\\x8f%D\\xa9e\\xef\\xc9\\xcd\\xf4\\xc9Z}\\x96\\xab\\xa8\\xeb3jsJy2\\xcaM\\xbb\\xa6\\xceFY[\\xefc\\xf3\\xe5m\\xb3\\x1c\\xa5l\\xec\\xe3\\xc7Q\\x95\\xbb\\x0b\\xe4\\xaa\\xe4\\xba\\t$lZ\\\\P\\xc5\\x10cA\\xf0E\\xa7\\xa2\\xe6\\x84I\\x1a\\xa4\\x90\\xb7\\x12\\xa5-3\\xed\\tA\\r\\xd8\\x12\\x88\\xeeCC\\xc2\\xb6\\x9b1N\\xb92\\xc1P\\xe8\\xba1\\xcb\\xb5F\\xcf\\x98\\xe8(\\xcd\\xfa\\x99T\\x98JL\\xc6\\xe2\\xad\\xb6\\xc7!{\\xec\\xcb\\x16\\x1ad\\xf8\\x9e\\xcfO\\x91\\xb13\\xc5\\x8f\\x83*\"\\x9c\\xb9\\r\\x19\\xe7\\xa8\\xc5\\x867\\x93$b\\xbd\\xd9\\xcb\\xd5|I\\xa6\\xc2\\x9a\\xc7\\xf5\\xbfSLp\\xcb/Q6\\xc9\\xed\\xdeN\\x8b\\xf9\\x91]\\xe4\\x97\\xeex\\x9c\\xdf\\x12\\xe7\\xcc\\xea\\t\\xa4%ul\\xef\\x99K\\xfc\\x9bO\\x8d\\x9f\\xed\\x9f\\xdd\\x8b\\xde\\xac\\xf8\\xbfZ\\x18\\xb3\\xe2\\xfdH\\xf0q\\xea\\xf3\\xf3&>\\x1dZo\\xfb\\x82\\xf0e\\x0er\\xc7\\xb7Y\\xb1~\\xa4O\\x9d\\x8f\\xc4\\x91\\xe3\\xe3\\xd4\\xe7W\\xb8\\tu\\\\\\xcdRtO\\xd3\\x91\\xfd\\x91\\xeb\\xb2\\xeb0bW<\\x91_\\xb9\\xcb\\xd4\\xf5\\xccq\\xb5\\x8dn~\\xa7\\x9a\\xc9\\x93&F\\xe5)7\\xf7*\\x17|\\xb3I\\xc3\\'\\xb2\\xbc\\x9f\\xc7S\\'Y\\xcb7\\xe9\\xf6\\x17\\xf8\\xec\\x92\\xee\\xd9\\x91/B\\xca\\xf1\\xc7\\xf8\\x9d\\xd6\\xaf\\xc5?2\\'\\xe2o\\xcd\\x99\\x96\\xdf=\\xcd\\x18\\xb4\\xf8\\xe4\\xaeS\\xafaY!\\xa3\\xce\\xfc\\xa2)\\xa9x6\\xe2\\xc5\\x82>\\x14\\xbe\\xe6\\x95\\x87tx\\xc7\\n\\xfb\\x19\\xdeLb\\xb1\\xc2\\xe5\\xe9\\xc9j \\xbci\\x9d\\x9f\\xc0\\xe3\\x97\\xe7J?\\xe0\\xcd\\x9fE\\x8b\\x1f0\\xd4G\\xedd\\xce|w\\xa6\\xb7\\xe3rkzr\\xde.H9\\xdat\\xf9!\\xb6\\xdc\\xfa}\\x8d\\x05`&Z8\\x1d+\\xb1\\x1a\\x9f\\xc8:\\xc5gW\\x8d\\x80p5k\\xb9\\xe75\\xab\\xeb\\xb3\\xd3j\\x97s\\xce\\xeb\\xd2M\\x9ab\\xcf&\\x14\\x12t-6]\\x96\\x81\\xd9,\\x12\\xc0\\n\\xcb\\xb0,\\xbb\\x11\\x8d2\\xec\\x0b\"`\\x0cL$\\xc5\\xd9i\\x88\\xcdL\\x8c\\r\\xc5n\\x10\\x13b\\xe4\\xc8\\xe4\\x04\\x98h\\x15\\x91\\xf0\\xf91d\\x95\\x1arH\\xc9\\x91\\x9a\\xe1\\x081\\x97#\\xa3\\x93\\x8e\\x0c\\xd7A)\\xd1\\xa5\\x826,\\xb5\\x11s\\xca\\xe8N\\xf1r\\x9f\\xb9\\x9c\\xc1[VI\\xf2\\xc5Y$\\xed\\x83\\xfb\\x9a\\xc8[\\x1a-r\\x02a\\xc56\\x068\\x8c\\xe6\\x81\\x8a\\xa0\\xf8\\xf5\"\\xa8,\\xaaa\\xd2\\'\\xec-\\x82\\xe9\\x84\\x97!\\xd1t\\x1b\\x08\\x90q@\\xa4\\x1a\\xeeM1*\\r0QvE1\\xa7\\xee\\x1ab\\x93\\t\\xcfdm\\x8bE\\xb3\\xa5\\x968\\xa3\\xbaO\\xf69\\xda\\xae\\xa9\\x96)\\xa85\\x05\\xfeDj\\xf5N\\xdbL\\xe3\\xe6\\xd49\\xca\\x9b:x\\xb8w\\xdda\\xc9\\x9e\\x85\\xa9\\xcf\\x93<\\x9e\\xec\\x92\\x7f\\xb9\\x8ePK\\x9e\\xe3\\x1f \\xd7\\xa9\\xdf\\x8fS\\xa7.]\\x97v\\xfd\\x03X\\xe5\\xe1\\x95\\xc7\\x8e\\xde\\xa4y\\x1c_\\xa9Db\\x8b\\x88q\\x9f\\x81Q\\xce\\x9f\\x0c)J/\\xb7ru\\xfd?\\xfe\\x1f\\x19\\xb5\\xd9\\x84\\xf332\\x93C\\xe0\\xd4\\x95p\\x89\\xb8\\xe8\\xe5h\\xc7\\x91IU\\x8d\\\\\\x18\\xd4T\\x1d\\xa69fTgg\\xf1r\\xb6FV\\x832C*o\\x86h\\x8b\\xb4gf\\x9aJ\\'\\x15vZ\\x93\\\\\"\"1\\x1a\\x9eY\\xaf&\\x8c]W>\\x15\\xda\\xeb\\xd4\\xcd\\\\\\x02\\xd19a\\x8e]X\\xac92\\xc2\\xef\\x1af}~\\xa3Q\\')M\\xf3\\xe1\\x08\\xdf\\x92\\xef{#\\xe0\\xad\\xc5Ld\\x9dB\\xcf<\\xb2\\xbb\\xca\\x9a\\xb3:\\xe6\\xc8+q\\x07\\xa4m\\xf7\\x04X)\\x97g\\x9a\\xebX\\x199\\x83\\n\\xc1\\x97\\xe5`\\x1cMZ\\xe5\\x9e\\x7f_\\x1e\\xe7\\xa2\\xd6p\\xd9\\xc0\\xd7\\xae\\x19\\xa6(\\xc9\\xc6O\\x90\\xacS\\xe2l+\\xeci\\xa6C\\xb2\\xecYi\\x80\\x1ae\\xa6\\x02\\n\\xc4b\\xb2\\xd0%\\xd8\\x8cH+\\x17d\\xb0\\x03l\\xab\\x06\\xc9b\\x0bl\\\\\\x99m\\xa1r`\\n\\xc8\\xcc\\xb3c\\xe6\\xcc\\xf3f\\xd8@S\\xeeV\\xfa#\\x06\\xe8\\xd4\\xb6\\'&\\x0c\\xa5\\xeeSv\\x03\\r\\r\\xa3\\x91[\\x8ah\\xba\\x18\\x82L4\\xd8)\\r\\x8aIrM\\\\\\\\m\\x8dH\\x18\\xbf\\xd8b3\\xaaB\\xd2~\\x85\\xfd\\x82H\\x93U\\x17\\xb4\\xbeK\\xa1\\x05R\\xf0Zt\\xf9.\\x8a\\xa1\\x12\\xef\\xd0\\x84\\xa2\\xeb\\xee#D\\xc4\\xeaf\\xd4)\\x0fQ\\xf3fmd\\xe3\\x08\\xdbea7SoNN\\xa6N\\x9f\\'2R\\xfa\\x8dZ\\x9dT\\x1bj<\\x98\\x9bnVz|X\\xd9;qre\\xbb\\xd1\\xd1\\x91r\\x92\\xae\\xc2\\x93-\\xf6+H\\xd8&\\xfcX;\\x92-\\xc6\\xc5\\xbcro\\x84\\\\\\x915o-x$sK\\xd0\\xa5\\x8d\\xf9)\\xc1\\xa2\\xb5\\x0b\\xb3\\x96Yz\\x07\\x0c\\x9e\\xa6M\\xcd\\x07\\x19\\xb1\\\\Om\\x9f1\\xb5E\\xc2|\\xf2\\xcc\\xca`\\xbc\\x8d2|On\\x94ZN\\xd35\\xe2\\xc8r1\\xe6M\\x1a\\xf0\\xe41\\xcf\\x06\\x98\\xe4\\xea)\\x16\\xe4g\\x8c\\xedw/y\\x8e\\x9bJv\\xe0[\\xe0V\\xfeI\\xbd\\x86\\x8bbl\\\\\\xb8-\\xb0[Lp\\xaa)\\x10\\x17\\xc3 \\xd2\\xfb\\xad\\x90\\x14\\xc9g\\x96\\xed]\\x94\\xdf\\x05YV\\x06\\xe5\\xebW,\\xe0\\xebW\\xd2\\xcfA\\xad]\\xce\\x0e\\xb3\\xf2\\xb2\\xb1FO=\\x95\\xd6VK\\xb4\\x0e\\xa5\\xd6B\\xa2\\xcd\\xf5\\xd3#,\\x8a@Y\\x13\\x16\\x81\\xbb\\x8b\\xb1I\\x97b\\xd07q,]\\x96\\x98\\xb4fn%\\x8b\\xbeIa\\xa0e\\x94\\xe4\\x05\\x94\\xd8h\\xd6\\xe4.R#\\x90\\xa9\\xc8\\xa9\\x00g!\\x13v\\x14\\xe4&R5\\xc6\\x12\\x9f\\xf2\\r\\x91\\xb6\\x0be\\x90\\xac\\x16\\xf9#d\\xe4\\x00BH\\x94_pTZ\\x19\\x10\\x12\\x0e$\\xd5Cb2\"\\xe21\\x19\\xd5\\r\\x04\\x91H$\\xbdI\\xa1h\\xba\\xf5)\\x16I!k\\x92\\x88\\x00\\\\%\\xdc\\x9b\\xc0\\xa2\\x06\\x81z\\x8c\\xb2\\x8cxG#R\\xe5\\x9a\\xf7I\\xfd\\x8e\\xbe~c]\\x8efw\\x18\\xdd#~.\\xbd#?N.LmI\\x80\\xddph\\xce\\xa7wM\\x99\\\\\\xab\\xba\\xa3\\xd1\\xc7\\xb8\\xe2\\xbd\\x19\\x15cc\\x15\\xe4Dd22\\x0b\\x049B!(\\xaf@#!\\x89\\xf0gU\\x01,i\\xf6\\x15,,\\xd3d\\xb4\\x13*,\\x8cO\\x10\\xb9cH\\xe8J)\\xfb\\nx\\xd1s4\\xdc\\\\\\xf7).\\xc07&t\\x1e\\x18\\xb1r\\xc4\\x97di3\\x89\\xf1\\xac\\xf8\\x9b\\xb3v\\x194g\\x84j]\\x8d1Dgvx\\xb6\\xc2|r\\xc9)\\x8a\\x83\\xe0\\x92f\\x1a\\xed\\xae\\xfa\\x1e\\xf2\\xd4\\xacM\\x93}\\x07\\x88\\xdbF\\xee\\tbT\\xfb\\x05b\\xb0\\xf6g\\xee@7\\x10\\x9d\\r\\xbe\\xe8\\x99v-2\\xec\\xf2\\xdd\\xab\\xb2\\x03d\\xb0\\x0cZ\\xde\\xc7\\x03W\\xdaVz-b\\xb8\\xd9\\xc0\\xd5G\\x96V)\\xaf3\\xacU;\\xa1Pf\\xadti\\xb3\\x0cdt\\xe3\\xdcd{\\xa2X;\\x89a\\xa0;%\\x81d\\xb1h\\x19e\\xd8\\xbb.\\xc5\\xa3\\x1d\\x97b\\xec\\x97B\\xd0\\x1e\\xe0[*\\xc1lz4\\x93\\x15&\\x14\\x98\\xa9H\\xa9\\x00$\\xc50\\xa4\\xc0f\\x914,\\x85\\xd3e\\xd2C\\n\\xa5\\xe4\\x9fbpK\\x03B\\xd2\"A$#\\x8b\\x8a\\x19\\x18\\x95\\x14\\xc6\\xc1+\\xb6\\xc8\\xb5pQ\\x85\\xf8\\x1d\\x1ci.]\\x00\\xa5\\\\.\\xc5\\xa9\\x91L\\xcaD\\xe0\\x1d\\xd6O$\\x90\\x88Q\\x03D\\xbbH\\xab*\\xbdH\\x1a\\te7\\xe8SeX\\xf4j\\x9a\\xdc\\xb9f\\\\\\xbax\\xa4\\xdfvi\\x93\\x13\\x92\\x7fK/\\x1d\\xa6\\xf6\\xe5\\xe7\\x8fs\\x99\\x9dS\\xect\\xf5\\x0f\\x96s\\xb3\\xf3gw\\x13\\x93\\x91\\x9d0\\xa3:b\\xfc\\x84tVM\\x11\\x9d\\x8d\\x8c\\xe8\\xc6\\xa5C#\".\\'+V\\xeb\\xf2K\\x12\\xa5\\xee\\x16\\xff\\x00r4\\xad\\x99\\xbc\\xa7;\\x16\\xd8-\\x86\\x85\\xa6\\xd9ubT\\xbd\\xc2\\xdc=\\x16\\xd1\\xa4\\xa454g\\x94\\xb9\\x19\\x19p\\x16\\x08|Y$\\xc5\\xa7\\xee[h\\x9d+h\\xd9VFR\\x19\\x18\\x83\\xb1i\\x93w\\xb96\\x18\\xdb \\xbd\\xe4\\r\\r\\xc7\\xde\\x13.\\xc5\\xa6]\\x9e;\\xbcvK\\x06\\xc8\\x80\\xcb\\xd4+\\x81\\xc1\\xd5\\xaeY\\xdf\\xcd\\xcc\\x19\\xc3\\xd6G\\xb8\\xf1My\\xbe\\xa0\\xbb\\x9c\\x98\\xba\\x91\\xda\\xd7\\xaf\\xa5\\x9c6\\xeb#:x\\xfd2\\xbe\\xda\\x13\\xb4K\\x02/\\x82\\xec\\xad\\x10\\xac\\xbb\\x00\\xb1\\x18\\xec\\xbd\\xc0\"X\\x01\\xa6K\\xa0,\\x97b\\xd1\\xae\\xc1l\\xa6\\xcalz\\n\\x93\\x17&[`9\\x15 \\x0c\\x98$e\\x14ItSvQ\\x10\\x05\\x97\\xf6EQ`\\x17\\xc7\\x96\\x1a\\x97\\xa2\\x1621~\\x82\\xaa\\x82M\\xb0\\xd3\\x05\\x04\\x89P\\x93a\\xae\\x00A\"h\\xd9\\x89\\xd1v\\n-\\x12\\x04K%\\x13\\x84\\x01\\nl\\x97e6\\x10\\x92\\xc0r-\\xb0$\\xc7 \\x04\\xe4\"s\\nr3\\xceF\\xb8\\xc4Z\\xcd\\x9f\\x9b0\\xe4\\x8d\\xfd\\xcd\\xb9Y\\x8erQgW\\x1b\\x9b2>L\\xa4\\xfd\\x83X\\x92_Q%\\xa9\\xd8\\xa9#<\\xb3J^M\\xe4\\xb5\\x9fF\\xca0O\\x86\\r\\xb5\\xd8J\\xbb\\x18\\x8a\\xd6\\x8bf) \\xf7\\nJ\\xcb\\xe4\\x9d\\x1e\\xcc\\xdcM\\xc0_\\xa9t\\xc5\\xa0\\x96M\\xc4\\xda\\x0bLa\\x1c\\x82S\\xa1L\\xab\\x1e\\x86\\xdac0\\xb7\\x99T\\x82S\\x15\\xc4m\\xabq[\\xcc\\xfb\\xdb\\t;\\'\\xc4\\xf6v\\xe2\\xb7\\x8b\\xb2\\x9c\\x83@\\xcd\\xe4\\x15\\xb8\\x83\\xf1\\x0f\\xbe\\xa6\\x1ab\\x93\\t3\\xc1zF&Z`Yi\\x80\\\\\\xf9\\x838\\xba\\xc8\\xf7;O\\xb1\\xca\\xd6G\\x969\\xec\\xab\\xcekc\\xf4\\xb3\\xcff\\xe3#=.\\xae<3\\xce\\xea\\x96\\xdc\\x87G\\x1d\\xed\\x96J\\x83\\xf5\\t\\xb11\\x98vk\\xa2\\x86\\'d\\xdd\\xfb\\x81\\xdb\\xb9,Z\\x03\\xdcK\\x17e\\xd8h\\x0fqN@\\xd9M\\x86\\x8cN@9\\x15er\\xc7\\xa0\\x8d\\x82\\x16\\xd2\\xaa\\xc0\\x02\\xd0.\\xc2u}\\xcald\\xa2YL\\x96\\x06\\xbe\\xe1$\\x81^\\xe5\\xdd\\x80\\x83O\\xd1\\x16\\xac\\x04\\x12\\x90\\x95\\xb1\\xa0\\xf8\\x17l\\xb5b=\\x9a\\xa8$\\xc5\\xa0\\xd3&\\x83\\x15\\xd1- -\\xb2\\xec\\x9d\\x01\\xee%\\x80Xh.\\xfd\\xc1l\\xb0[\\x19)\\xb1ra\\xb0$T\\x80\\x8c\\x8c\\xcd6\\xcdS\\xe4\\xcd\\x91w\\xb3LY\\xe4\\xc7\\x95\\x98\\xe7m\\x9b2\\xae\\x0csT\\xd9\\xd7\\x83\\x9f&y+e\\xc3\\x0c\\xe6\\xe9E\\xb1\\xb8\\xf6\\xa9\\xa4\\xfb3\\xd1\\xe8\\xf1`\\x96\\x18F\\tG\\xd5\\xf9+\\x93\\x93\\xc2zN8\\xf9W\\x13\\x0fK\\xcb5r\\xfaP\\x19\\xb4\\x19qv\\x8c\\x9f\\xec{\\\\\\x1a\\x08>W&\\x9f\\xc0\\xe2\\xaeR\\xb3\\x93\\xff\\x00]\\xdbo\\xa6i\\xf3\\xa7\\x19\\xc5\\xf3\\x16\\x8bO\\xd4\\xf6\\x9a\\xbe\\x95\\x8f*u\\x14\\x99\\xc5\\xd4t\\x1c\\xf1\\xb7\\x8dZ6\\xc3\\xe4\\xe3\\x97\\xbe\\x91x\\xacq\\xd2\\x0e(fM.l\\x0f\\xeb\\xc6\\xd0\\t\\xfa\\xf0k\\xb9}#Z^\\xd2\\x9c}\\x82\\xfb\\x14\\xe5\\xea\\x1d\\x82e\\x11M\\x1a\\x1f\"\\xe4\\x91R\\x95$\\x8a\\xc3i\\x15\\xc1{%\\xc4;\\xa1{\\x89\\xb8Z\\x03r)\\xc8\\x06\\xca\\xb0\\xd0\\xd8\\xec\\x82\\xf7\\x104\\x1f\\x7fR\\r1\\t\\x86\\xa4|\\xfb\\xd390\\xd3\\x12\\xa4\\x1cX\\x8c\\xcb9\\xfa\\xc5\\xcbf\\xf4\\xccz\\xc4\\x10\\xab\\xce\\xea\\xd7s\\xcd\\xeb\\xa3\\xf53\\xd3\\xea\\xe3\\xcb<\\xefP\\x8fs~?l\\xb2s\\xe2\\xd2\\xee:\\xf83F\\xec\\xd1\\x15h\\xe8\\xa8\\x89d\\xb2pS\\xa05\\xee%\\x83\\xb9\"\\xb7\\x00\\xd8\\xac\\x80YV\\x03f&\\xaf\\x92o\\xb7\\xc0\\xbf\\xb9\\x1c\\xd2\\xec\\x83G\\xb1\\xd8\\x0e^\\xe0\\xdbd\\xafP\\x1bS\\x91V\\xcb\\xafBv\\xee2\\x0f,?\\xb2\\x05\\xca\\xbb\\x15\\xbe\\xc0l|\\x12\\xc0\\xb2\\xd0\\x1e\\xcc\\xaa\\\\\\x84\\xa9v@.BD\\xaa_\\xe0\\xec\\xb4\\xc1A!\\x1e\\xc4\\xac ,4*\\x04X)\\xa2\\xec@VB\\x88\\x01\\n#)\\xb0$b\\xe4\\xc2l\\x06\\xd0\\xe0\\x04\\x99\\x9f\"\\x1f&\\xdfd*P~Yr\\xa2\\xb1d\\x8d\\x98\\xf2\\xc0\\xe9dI#&T\\xdd\\x9d8d\\xc3(\\xc0\\xd5;\\x1f\\xa6\\xd6\\xcf\\x0c\\x95\\xb7H\\\\\\xe3\\xc8\\x89p\\xce\\x8dL\\xa6\\xab=\\xd9\\xe9\\xea4\\xdf\\x10\\xecJ(\\xediu\\xebT\\x96\\xe9m\\xb3\\xe7\\xb1\\x9b\\x8b\\xe1\\x9b\\xb4\\xbdC&)*\\x91\\xcd\\xc9\\xf1e\\xfcZ\\xe1\\xcb\\x7fo\\xa4\\xe1\\xc1\\x8aI4\\xec\\x7f\\xe1`\\xfc\\x1e7I\\xd7\\x9c\\x12\\xb7gW\\x0f\\xc41k\\xea\\x99\\xc3\\x97\\x0eq\\xd1\\x8ex\\xd7KQ\\xd3\\xb0\\xcd=\\xd1L\\xe2k:&\\x9d\\xdb\\x8c)\\xfb\\x1b\\xe5\\xd6\\xb0\\xe4\\\\\\xba2\\xe5\\xea\\x18\\xda\\xb5;\\x0cfx\\xde\\x86^5\\xe7u=+.)?\\x97\\xca0d\\x86Ln\\xa5\\x06\\x8fA\\x9f\\\\\\x9d\\xf69\\x99\\xf5\\x10\\x95\\xda\\xb3\\xb7\\x8f<\\xff\\x00n|\\xf1\\xc7\\xf4\\xe5\\xca@6\\xc7\\xe5x\\xdfh\\xd1\\x9eU\\xe0\\xea\\xc5\\x8d\\x0bd\\xb2\\x9b*\\xcb!Y[\\x8a(\\x02\\xec\\x96Q\\x00.\\xc8\\t\\x00>\\xf6\\xa412\\x10\\xf9\\xe7\\xa64\\xc6E\\x90\\x84\\x98\\xd33\\xea\\x97\\xd2B\\x00\\xae\\x16\\xadw<\\xfe\\xba=\\xd9\\x08m\\x87\\xb6Y8\\xdb\\xeaLdfB\\x1dL\\xe5S\\x93)\\xca\\xc8@\\x1bU\\x92\\xc8@4*\\xc8@\\x08\\xd9\\x17~H@\\tv\\x89d \\x00\\xb9\\x15d \\xc6\\xd4Q\\x08\\x02\\x08\\xb4B\\x08\\xe0\\xd0H\\x84\\x11\\x88$B\\x08\\xe0\\x97`\\x88A\\x1a\\xd7b\\xf8\\xf4!\\x04\\x17d\\xb2\\x10\\x00w\\x14\\xd9\\x08=\\x10X>HA\\x90\\x1bb\\xe6\\xc8B\\xa2m\"|\\x89\\x9c\\x15[!\\r1E\\x8c\\xb9\\x12\\xf0\\x8c\\x93\\x87$!\\xd3\\x83\\x1c\\x8ah\\x1e\\xc4!\\xb4@\\xe3\\x96Q\\xf2\\x1a\\xd4K\\xd5\\x90\\x82\\xb2\\r\\x98\\xb5s_\\xdc\\xcb\\xfcd\\xff\\x00S!\\x05\\xe3\\x0fuOU\\'\\xe4[\\xce\\xd9\\x08\\x13\\x186\\x07;\\x03q\\x08V\\x89[\\x89d \\xc2\\xac\\x96B\\x00K%\\x90\\x80\\x12\\xc8B\\x00\\x7f\\xff\\xd9',\n",
       " 'path': '0.jpg'}"
      ]
     },
     "execution_count": 8,
     "metadata": {},
     "output_type": "execute_result"
    }
   ],
   "source": [
    "# Each element of the column 'image' is a dictionary with 2 elements: 'bytes' (raw data) and 'path' (image name)\n",
    "df1['image'][0]"
   ]
  },
  {
   "cell_type": "code",
   "execution_count": 9,
   "metadata": {},
   "outputs": [],
   "source": [
    "# I reduce the size of the datasets\n",
    "df1 = df1[:4000]\n",
    "df2 = df2[:4000]"
   ]
  },
  {
   "cell_type": "code",
   "execution_count": 10,
   "metadata": {},
   "outputs": [],
   "source": [
    "# Combine the DataFrames for cats and dogs\n",
    "# We split each dataframe into train and test and we concatenate them\n",
    "# This way we know we have the same ammount of cats and dogs in the train and test sets\n",
    "from sklearn.model_selection import train_test_split\n",
    "train_df1, val_df1 = train_test_split(df1, test_size=0.2, random_state=42)\n",
    "train_df2, val_df2 = train_test_split(df2, test_size=0.2, random_state=42)\n",
    "\n",
    "train_df = pd.concat([train_df1, train_df2], ignore_index=True)\n",
    "val_df = pd.concat([val_df1, val_df2], ignore_index=True)\n",
    "\n",
    "# I shuffle the train set to avoid having all the cats together first and the dogs afterwards\n",
    "from sklearn.utils import shuffle\n",
    "train_df = shuffle(train_df, random_state=42)\n",
    "\n",
    "# We reset the indexes\n",
    "train_df = train_df.reset_index(drop=True)\n",
    "val_df = val_df.reset_index(drop=True)"
   ]
  },
  {
   "cell_type": "code",
   "execution_count": 11,
   "metadata": {},
   "outputs": [],
   "source": [
    "import torch\n",
    "from torch import nn, optim\n",
    "from torch.utils.data import Dataset, DataLoader\n",
    "from torchvision import transforms\n",
    "from PIL import Image\n",
    "from io import BytesIO\n",
    "from sklearn.metrics import classification_report, confusion_matrix"
   ]
  },
  {
   "cell_type": "code",
   "execution_count": 12,
   "metadata": {},
   "outputs": [],
   "source": [
    "# Custom Dataset class for handling images and labels\n",
    "class CatDogDataset(Dataset):\n",
    "    def __init__(self, df, transform=None):\n",
    "        \"\"\"\n",
    "        Args:\n",
    "            df (DataFrame): DataFrame containing 'image' (dict with 'bytes') and 'labels'.\n",
    "            transform (callable, optionCatDogDatasetal): Optional transform to be applied to the images.\n",
    "        \"\"\"\n",
    "        self.df = df\n",
    "        self.transform = transform\n",
    "\n",
    "    def __len__(self):\n",
    "        return len(self.df)\n",
    "\n",
    "    def __getitem__(self, idx):\n",
    "        # Access the row at the given index\n",
    "        image_info = self.df.iloc[idx]['image']  # Dictionary {'bytes': ..., 'path': ...}\n",
    "        label = self.df.iloc[idx]['labels']     # Target label (0 or 1)\n",
    "        \n",
    "        # Load the image using the bytes\n",
    "        image_bytes = image_info['bytes']\n",
    "        image = Image.open(BytesIO(image_bytes)).convert('RGB')   # Alternative: Convert to grayscale instead of RGB, to avoid having a bias for color (for example, photos of dogs usually have green grass in the background)\n",
    "                                                                  # In grayscale each byte represents a pixel value from 0 to 255\n",
    "        # Apply the transformation if defined\n",
    "        if self.transform:\n",
    "            image = self.transform(image)\n",
    "        \n",
    "        # Return the transformed image tensor and label\n",
    "        return image, torch.tensor(label, dtype=torch.float32)"
   ]
  },
  {
   "cell_type": "code",
   "execution_count": 13,
   "metadata": {},
   "outputs": [],
   "source": [
    "train_transform = transforms.Compose([\n",
    "    transforms.Resize((128, 128)),                # Resize to 128x128 (all images uniform size)\n",
    "    transforms.RandomHorizontalFlip(p=0.5),      # Randomly flip horizontally with 50% probability\n",
    "    transforms.RandomRotation(degrees=30),       # Randomly rotate within plus minus 30 degrees\n",
    "    transforms.RandomCrop((120, 120)),           # Randomly crop to 120x120\n",
    "    transforms.Resize((128, 128)),               # Resize back to 128x128 to ensure consistent input size\n",
    "    transforms.ToTensor(),                       # Convert to tensor\n",
    "    transforms.Normalize([0.485, 0.456, 0.406], [0.229, 0.224, 0.225])           # RGB normalization, for greyscale it is different\n",
    "])\n",
    "\n",
    "val_transform = transforms.Compose([\n",
    "    transforms.Resize((128, 128)),                # Resize to 128x128\n",
    "    transforms.ToTensor(),                        # Convert image to Tensor\n",
    "    transforms.Normalize([0.485, 0.456, 0.406], [0.229, 0.224, 0.225])            # RGB normalization, for greyscale it is different\n",
    "])"
   ]
  },
  {
   "cell_type": "code",
   "execution_count": 14,
   "metadata": {},
   "outputs": [],
   "source": [
    "# Create Dataset and DataLoader for training and validation\n",
    "train_dataset = CatDogDataset(train_df, transform=train_transform)\n",
    "val_dataset = CatDogDataset(val_df, transform=val_transform)\n",
    "\n",
    "train_loader = DataLoader(train_dataset, batch_size=16, shuffle=True)\n",
    "val_loader = DataLoader(val_dataset, batch_size=16, shuffle=False)"
   ]
  },
  {
   "cell_type": "code",
   "execution_count": 15,
   "metadata": {},
   "outputs": [],
   "source": [
    "# CNN Model\n",
    "class SmallCNN(nn.Module):\n",
    "    def __init__(self):\n",
    "        super(SmallCNN, self).__init__()\n",
    "        self.conv_layers = nn.Sequential(\n",
    "            nn.Conv2d(3, 32, kernel_size=3, stride=1, padding=1), # 3 channels because it is in RGB\n",
    "            nn.ReLU(),\n",
    "            nn.BatchNorm2d(32),  # Batch normalization\n",
    "            nn.MaxPool2d(2, 2),  # Output: Output: 64x64x32\n",
    "\n",
    "            nn.Conv2d(32, 64, kernel_size=3, stride=1, padding=1),\n",
    "            nn.ReLU(),\n",
    "            nn.BatchNorm2d(64),  # Batch normalization\n",
    "            nn.MaxPool2d(2, 2),  # Output: 32x32x64\n",
    "\n",
    "            nn.Conv2d(64, 128, kernel_size=3, stride=1, padding=1),\n",
    "            nn.ReLU(),\n",
    "            nn.BatchNorm2d(128),  # Batch normalization\n",
    "            nn.MaxPool2d(2, 2)   # Output: 16x16x128\n",
    "        )\n",
    "        \n",
    "        self.fc_layers = nn.Sequential(\n",
    "            nn.Flatten(),\n",
    "            nn.Linear(16 * 16 * 128, 256),\n",
    "            nn.ReLU(),\n",
    "            nn.Dropout(0.5),  # Dropout to reduce overfitting\n",
    "            nn.Linear(256, 1),\n",
    "            nn.Sigmoid()\n",
    "        )\n",
    "\n",
    "    def forward(self, x):\n",
    "        x = self.conv_layers(x)\n",
    "        x = self.fc_layers(x)\n",
    "        return x"
   ]
  },
  {
   "cell_type": "code",
   "execution_count": 16,
   "metadata": {},
   "outputs": [],
   "source": [
    "# Initialize the Model, Loss, Optimizer\n",
    "device = torch.device('cuda' if torch.cuda.is_available() else 'cpu')\n",
    "model = SmallCNN().to(device)\n",
    "criterion = nn.BCELoss()\n",
    "optimizer = optim.Adam(model.parameters(), lr=0.001, weight_decay=1e-3)"
   ]
  },
  {
   "cell_type": "code",
   "execution_count": 17,
   "metadata": {},
   "outputs": [],
   "source": [
    "# # Early Stopping Functionality\n",
    "# class EarlyStopping:\n",
    "#     def __init__(self, patience=3, delta=0.001):\n",
    "#         self.patience = patience\n",
    "#         self.delta = delta\n",
    "#         self.best_loss = None\n",
    "#         self.counter = 0\n",
    "#         self.early_stop = False\n",
    "\n",
    "#     def __call__(self, validation_loss):\n",
    "#         if self.best_loss is None:\n",
    "#             self.best_loss = validation_loss\n",
    "#         elif validation_loss > self.best_loss - self.delta:\n",
    "#             self.counter += 1\n",
    "#             if self.counter >= self.patience:\n",
    "#                 self.early_stop = True\n",
    "#         else:\n",
    "#             self.best_loss = validation_loss\n",
    "#             self.counter = 0\n",
    "            \n",
    "# # Learning Rate Scheduler\n",
    "# scheduler = torch.optim.lr_scheduler.ReduceLROnPlateau(optimizer, mode='min', factor=0.5, patience=3, verbose=True, min_lr=1e-6)\n",
    "\n",
    "# # Early Stopping Parameters\n",
    "# early_stopping = EarlyStopping(patience=4)"
   ]
  },
  {
   "cell_type": "code",
   "execution_count": null,
   "metadata": {},
   "outputs": [
    {
     "name": "stdout",
     "output_type": "stream",
     "text": [
      "Epoch 1/60\n",
      "  Train Loss: 0.9999\n",
      "  Validation Loss: 0.6280\n",
      "Epoch 2/60\n",
      "  Train Loss: 0.6413\n",
      "  Validation Loss: 0.6215\n",
      "Epoch 3/60\n",
      "  Train Loss: 0.6156\n",
      "  Validation Loss: 0.5766\n",
      "Epoch 4/60\n",
      "  Train Loss: 0.6176\n",
      "  Validation Loss: 0.5390\n",
      "Epoch 5/60\n",
      "  Train Loss: 0.5879\n",
      "  Validation Loss: 0.5659\n",
      "Epoch 6/60\n",
      "  Train Loss: 0.5771\n",
      "  Validation Loss: 0.5182\n",
      "Epoch 7/60\n",
      "  Train Loss: 0.5548\n",
      "  Validation Loss: 0.5327\n",
      "Epoch 8/60\n",
      "  Train Loss: 0.5359\n",
      "  Validation Loss: 0.4895\n",
      "Epoch 9/60\n",
      "  Train Loss: 0.5131\n",
      "  Validation Loss: 0.4628\n",
      "Epoch 10/60\n",
      "  Train Loss: 0.4851\n",
      "  Validation Loss: 0.4846\n",
      "Epoch 11/60\n",
      "  Train Loss: 0.4561\n",
      "  Validation Loss: 0.4346\n",
      "Epoch 12/60\n",
      "  Train Loss: 0.4480\n",
      "  Validation Loss: 0.4081\n",
      "Epoch 13/60\n",
      "  Train Loss: 0.4295\n",
      "  Validation Loss: 0.4653\n",
      "Epoch 14/60\n",
      "  Train Loss: 0.4216\n",
      "  Validation Loss: 0.4171\n",
      "Epoch 15/60\n",
      "  Train Loss: 0.4136\n",
      "  Validation Loss: 0.4169\n",
      "Epoch 16/60\n",
      "  Train Loss: 0.3960\n",
      "  Validation Loss: 0.3867\n",
      "Epoch 17/60\n",
      "  Train Loss: 0.3789\n",
      "  Validation Loss: 0.3584\n",
      "Epoch 18/60\n",
      "  Train Loss: 0.3705\n",
      "  Validation Loss: 0.3943\n",
      "Epoch 19/60\n",
      "  Train Loss: 0.3697\n",
      "  Validation Loss: 0.3787\n",
      "Epoch 20/60\n",
      "  Train Loss: 0.3691\n",
      "  Validation Loss: 0.3703\n",
      "Epoch 21/60\n",
      "  Train Loss: 0.3541\n",
      "  Validation Loss: 0.3560\n",
      "Epoch 22/60\n",
      "  Train Loss: 0.3513\n",
      "  Validation Loss: 0.3255\n",
      "Epoch 23/60\n",
      "  Train Loss: 0.3566\n",
      "  Validation Loss: 0.3459\n",
      "Epoch 24/60\n",
      "  Train Loss: 0.3403\n",
      "  Validation Loss: 0.3488\n",
      "Epoch 25/60\n",
      "  Train Loss: 0.3439\n",
      "  Validation Loss: 0.4129\n",
      "Epoch 26/60\n",
      "  Train Loss: 0.3330\n",
      "  Validation Loss: 0.3979\n",
      "Epoch 27/60\n",
      "  Train Loss: 0.3375\n",
      "  Validation Loss: 0.3608\n",
      "Epoch 28/60\n",
      "  Train Loss: 0.3326\n",
      "  Validation Loss: 0.3186\n",
      "Epoch 29/60\n",
      "  Train Loss: 0.3278\n",
      "  Validation Loss: 0.3257\n",
      "Epoch 30/60\n",
      "  Train Loss: 0.3252\n",
      "  Validation Loss: 0.3270\n",
      "Epoch 31/60\n",
      "  Train Loss: 0.3182\n",
      "  Validation Loss: 0.3083\n",
      "Epoch 32/60\n",
      "  Train Loss: 0.3180\n",
      "  Validation Loss: 0.3297\n",
      "Epoch 33/60\n",
      "  Train Loss: 0.3146\n",
      "  Validation Loss: 0.3326\n",
      "Epoch 34/60\n",
      "  Train Loss: 0.3152\n",
      "  Validation Loss: 0.4302\n",
      "Epoch 35/60\n",
      "  Train Loss: 0.3125\n",
      "  Validation Loss: 0.3888\n",
      "Epoch 36/60\n",
      "  Train Loss: 0.3056\n",
      "  Validation Loss: 0.3224\n",
      "Epoch 37/60\n",
      "  Train Loss: 0.3154\n",
      "  Validation Loss: 0.3147\n",
      "Epoch 38/60\n",
      "  Train Loss: 0.2998\n",
      "  Validation Loss: 0.3217\n"
     ]
    },
    {
     "ename": "KeyboardInterrupt",
     "evalue": "",
     "output_type": "error",
     "traceback": [
      "\u001b[0;31m---------------------------------------------------------------------------\u001b[0m",
      "\u001b[0;31mKeyboardInterrupt\u001b[0m                         Traceback (most recent call last)",
      "Cell \u001b[0;32mIn[18], line 16\u001b[0m\n\u001b[1;32m     14\u001b[0m images, labels \u001b[38;5;241m=\u001b[39m images\u001b[38;5;241m.\u001b[39mto(device), labels\u001b[38;5;241m.\u001b[39mto(device)\u001b[38;5;241m.\u001b[39munsqueeze(\u001b[38;5;241m1\u001b[39m)\n\u001b[1;32m     15\u001b[0m optimizer\u001b[38;5;241m.\u001b[39mzero_grad()\n\u001b[0;32m---> 16\u001b[0m outputs \u001b[38;5;241m=\u001b[39m \u001b[43mmodel\u001b[49m\u001b[43m(\u001b[49m\u001b[43mimages\u001b[49m\u001b[43m)\u001b[49m\n\u001b[1;32m     17\u001b[0m loss \u001b[38;5;241m=\u001b[39m criterion(outputs, labels)\n\u001b[1;32m     18\u001b[0m loss\u001b[38;5;241m.\u001b[39mbackward()\n",
      "File \u001b[0;32m/usr/local/lib/python3.12/dist-packages/torch/nn/modules/module.py:1736\u001b[0m, in \u001b[0;36mModule._wrapped_call_impl\u001b[0;34m(self, *args, **kwargs)\u001b[0m\n\u001b[1;32m   1734\u001b[0m     \u001b[38;5;28;01mreturn\u001b[39;00m \u001b[38;5;28mself\u001b[39m\u001b[38;5;241m.\u001b[39m_compiled_call_impl(\u001b[38;5;241m*\u001b[39margs, \u001b[38;5;241m*\u001b[39m\u001b[38;5;241m*\u001b[39mkwargs)  \u001b[38;5;66;03m# type: ignore[misc]\u001b[39;00m\n\u001b[1;32m   1735\u001b[0m \u001b[38;5;28;01melse\u001b[39;00m:\n\u001b[0;32m-> 1736\u001b[0m     \u001b[38;5;28;01mreturn\u001b[39;00m \u001b[38;5;28;43mself\u001b[39;49m\u001b[38;5;241;43m.\u001b[39;49m\u001b[43m_call_impl\u001b[49m\u001b[43m(\u001b[49m\u001b[38;5;241;43m*\u001b[39;49m\u001b[43margs\u001b[49m\u001b[43m,\u001b[49m\u001b[43m \u001b[49m\u001b[38;5;241;43m*\u001b[39;49m\u001b[38;5;241;43m*\u001b[39;49m\u001b[43mkwargs\u001b[49m\u001b[43m)\u001b[49m\n",
      "File \u001b[0;32m/usr/local/lib/python3.12/dist-packages/torch/nn/modules/module.py:1747\u001b[0m, in \u001b[0;36mModule._call_impl\u001b[0;34m(self, *args, **kwargs)\u001b[0m\n\u001b[1;32m   1742\u001b[0m \u001b[38;5;66;03m# If we don't have any hooks, we want to skip the rest of the logic in\u001b[39;00m\n\u001b[1;32m   1743\u001b[0m \u001b[38;5;66;03m# this function, and just call forward.\u001b[39;00m\n\u001b[1;32m   1744\u001b[0m \u001b[38;5;28;01mif\u001b[39;00m \u001b[38;5;129;01mnot\u001b[39;00m (\u001b[38;5;28mself\u001b[39m\u001b[38;5;241m.\u001b[39m_backward_hooks \u001b[38;5;129;01mor\u001b[39;00m \u001b[38;5;28mself\u001b[39m\u001b[38;5;241m.\u001b[39m_backward_pre_hooks \u001b[38;5;129;01mor\u001b[39;00m \u001b[38;5;28mself\u001b[39m\u001b[38;5;241m.\u001b[39m_forward_hooks \u001b[38;5;129;01mor\u001b[39;00m \u001b[38;5;28mself\u001b[39m\u001b[38;5;241m.\u001b[39m_forward_pre_hooks\n\u001b[1;32m   1745\u001b[0m         \u001b[38;5;129;01mor\u001b[39;00m _global_backward_pre_hooks \u001b[38;5;129;01mor\u001b[39;00m _global_backward_hooks\n\u001b[1;32m   1746\u001b[0m         \u001b[38;5;129;01mor\u001b[39;00m _global_forward_hooks \u001b[38;5;129;01mor\u001b[39;00m _global_forward_pre_hooks):\n\u001b[0;32m-> 1747\u001b[0m     \u001b[38;5;28;01mreturn\u001b[39;00m \u001b[43mforward_call\u001b[49m\u001b[43m(\u001b[49m\u001b[38;5;241;43m*\u001b[39;49m\u001b[43margs\u001b[49m\u001b[43m,\u001b[49m\u001b[43m \u001b[49m\u001b[38;5;241;43m*\u001b[39;49m\u001b[38;5;241;43m*\u001b[39;49m\u001b[43mkwargs\u001b[49m\u001b[43m)\u001b[49m\n\u001b[1;32m   1749\u001b[0m result \u001b[38;5;241m=\u001b[39m \u001b[38;5;28;01mNone\u001b[39;00m\n\u001b[1;32m   1750\u001b[0m called_always_called_hooks \u001b[38;5;241m=\u001b[39m \u001b[38;5;28mset\u001b[39m()\n",
      "Cell \u001b[0;32mIn[15], line 32\u001b[0m, in \u001b[0;36mSmallCNN.forward\u001b[0;34m(self, x)\u001b[0m\n\u001b[1;32m     31\u001b[0m \u001b[38;5;28;01mdef\u001b[39;00m \u001b[38;5;21mforward\u001b[39m(\u001b[38;5;28mself\u001b[39m, x):\n\u001b[0;32m---> 32\u001b[0m     x \u001b[38;5;241m=\u001b[39m \u001b[38;5;28;43mself\u001b[39;49m\u001b[38;5;241;43m.\u001b[39;49m\u001b[43mconv_layers\u001b[49m\u001b[43m(\u001b[49m\u001b[43mx\u001b[49m\u001b[43m)\u001b[49m\n\u001b[1;32m     33\u001b[0m     x \u001b[38;5;241m=\u001b[39m \u001b[38;5;28mself\u001b[39m\u001b[38;5;241m.\u001b[39mfc_layers(x)\n\u001b[1;32m     34\u001b[0m     \u001b[38;5;28;01mreturn\u001b[39;00m x\n",
      "File \u001b[0;32m/usr/local/lib/python3.12/dist-packages/torch/nn/modules/module.py:1736\u001b[0m, in \u001b[0;36mModule._wrapped_call_impl\u001b[0;34m(self, *args, **kwargs)\u001b[0m\n\u001b[1;32m   1734\u001b[0m     \u001b[38;5;28;01mreturn\u001b[39;00m \u001b[38;5;28mself\u001b[39m\u001b[38;5;241m.\u001b[39m_compiled_call_impl(\u001b[38;5;241m*\u001b[39margs, \u001b[38;5;241m*\u001b[39m\u001b[38;5;241m*\u001b[39mkwargs)  \u001b[38;5;66;03m# type: ignore[misc]\u001b[39;00m\n\u001b[1;32m   1735\u001b[0m \u001b[38;5;28;01melse\u001b[39;00m:\n\u001b[0;32m-> 1736\u001b[0m     \u001b[38;5;28;01mreturn\u001b[39;00m \u001b[38;5;28;43mself\u001b[39;49m\u001b[38;5;241;43m.\u001b[39;49m\u001b[43m_call_impl\u001b[49m\u001b[43m(\u001b[49m\u001b[38;5;241;43m*\u001b[39;49m\u001b[43margs\u001b[49m\u001b[43m,\u001b[49m\u001b[43m \u001b[49m\u001b[38;5;241;43m*\u001b[39;49m\u001b[38;5;241;43m*\u001b[39;49m\u001b[43mkwargs\u001b[49m\u001b[43m)\u001b[49m\n",
      "File \u001b[0;32m/usr/local/lib/python3.12/dist-packages/torch/nn/modules/module.py:1747\u001b[0m, in \u001b[0;36mModule._call_impl\u001b[0;34m(self, *args, **kwargs)\u001b[0m\n\u001b[1;32m   1742\u001b[0m \u001b[38;5;66;03m# If we don't have any hooks, we want to skip the rest of the logic in\u001b[39;00m\n\u001b[1;32m   1743\u001b[0m \u001b[38;5;66;03m# this function, and just call forward.\u001b[39;00m\n\u001b[1;32m   1744\u001b[0m \u001b[38;5;28;01mif\u001b[39;00m \u001b[38;5;129;01mnot\u001b[39;00m (\u001b[38;5;28mself\u001b[39m\u001b[38;5;241m.\u001b[39m_backward_hooks \u001b[38;5;129;01mor\u001b[39;00m \u001b[38;5;28mself\u001b[39m\u001b[38;5;241m.\u001b[39m_backward_pre_hooks \u001b[38;5;129;01mor\u001b[39;00m \u001b[38;5;28mself\u001b[39m\u001b[38;5;241m.\u001b[39m_forward_hooks \u001b[38;5;129;01mor\u001b[39;00m \u001b[38;5;28mself\u001b[39m\u001b[38;5;241m.\u001b[39m_forward_pre_hooks\n\u001b[1;32m   1745\u001b[0m         \u001b[38;5;129;01mor\u001b[39;00m _global_backward_pre_hooks \u001b[38;5;129;01mor\u001b[39;00m _global_backward_hooks\n\u001b[1;32m   1746\u001b[0m         \u001b[38;5;129;01mor\u001b[39;00m _global_forward_hooks \u001b[38;5;129;01mor\u001b[39;00m _global_forward_pre_hooks):\n\u001b[0;32m-> 1747\u001b[0m     \u001b[38;5;28;01mreturn\u001b[39;00m \u001b[43mforward_call\u001b[49m\u001b[43m(\u001b[49m\u001b[38;5;241;43m*\u001b[39;49m\u001b[43margs\u001b[49m\u001b[43m,\u001b[49m\u001b[43m \u001b[49m\u001b[38;5;241;43m*\u001b[39;49m\u001b[38;5;241;43m*\u001b[39;49m\u001b[43mkwargs\u001b[49m\u001b[43m)\u001b[49m\n\u001b[1;32m   1749\u001b[0m result \u001b[38;5;241m=\u001b[39m \u001b[38;5;28;01mNone\u001b[39;00m\n\u001b[1;32m   1750\u001b[0m called_always_called_hooks \u001b[38;5;241m=\u001b[39m \u001b[38;5;28mset\u001b[39m()\n",
      "File \u001b[0;32m/usr/local/lib/python3.12/dist-packages/torch/nn/modules/container.py:250\u001b[0m, in \u001b[0;36mSequential.forward\u001b[0;34m(self, input)\u001b[0m\n\u001b[1;32m    248\u001b[0m \u001b[38;5;28;01mdef\u001b[39;00m \u001b[38;5;21mforward\u001b[39m(\u001b[38;5;28mself\u001b[39m, \u001b[38;5;28minput\u001b[39m):\n\u001b[1;32m    249\u001b[0m     \u001b[38;5;28;01mfor\u001b[39;00m module \u001b[38;5;129;01min\u001b[39;00m \u001b[38;5;28mself\u001b[39m:\n\u001b[0;32m--> 250\u001b[0m         \u001b[38;5;28minput\u001b[39m \u001b[38;5;241m=\u001b[39m \u001b[43mmodule\u001b[49m\u001b[43m(\u001b[49m\u001b[38;5;28;43minput\u001b[39;49m\u001b[43m)\u001b[49m\n\u001b[1;32m    251\u001b[0m     \u001b[38;5;28;01mreturn\u001b[39;00m \u001b[38;5;28minput\u001b[39m\n",
      "File \u001b[0;32m/usr/local/lib/python3.12/dist-packages/torch/nn/modules/module.py:1736\u001b[0m, in \u001b[0;36mModule._wrapped_call_impl\u001b[0;34m(self, *args, **kwargs)\u001b[0m\n\u001b[1;32m   1734\u001b[0m     \u001b[38;5;28;01mreturn\u001b[39;00m \u001b[38;5;28mself\u001b[39m\u001b[38;5;241m.\u001b[39m_compiled_call_impl(\u001b[38;5;241m*\u001b[39margs, \u001b[38;5;241m*\u001b[39m\u001b[38;5;241m*\u001b[39mkwargs)  \u001b[38;5;66;03m# type: ignore[misc]\u001b[39;00m\n\u001b[1;32m   1735\u001b[0m \u001b[38;5;28;01melse\u001b[39;00m:\n\u001b[0;32m-> 1736\u001b[0m     \u001b[38;5;28;01mreturn\u001b[39;00m \u001b[38;5;28;43mself\u001b[39;49m\u001b[38;5;241;43m.\u001b[39;49m\u001b[43m_call_impl\u001b[49m\u001b[43m(\u001b[49m\u001b[38;5;241;43m*\u001b[39;49m\u001b[43margs\u001b[49m\u001b[43m,\u001b[49m\u001b[43m \u001b[49m\u001b[38;5;241;43m*\u001b[39;49m\u001b[38;5;241;43m*\u001b[39;49m\u001b[43mkwargs\u001b[49m\u001b[43m)\u001b[49m\n",
      "File \u001b[0;32m/usr/local/lib/python3.12/dist-packages/torch/nn/modules/module.py:1747\u001b[0m, in \u001b[0;36mModule._call_impl\u001b[0;34m(self, *args, **kwargs)\u001b[0m\n\u001b[1;32m   1742\u001b[0m \u001b[38;5;66;03m# If we don't have any hooks, we want to skip the rest of the logic in\u001b[39;00m\n\u001b[1;32m   1743\u001b[0m \u001b[38;5;66;03m# this function, and just call forward.\u001b[39;00m\n\u001b[1;32m   1744\u001b[0m \u001b[38;5;28;01mif\u001b[39;00m \u001b[38;5;129;01mnot\u001b[39;00m (\u001b[38;5;28mself\u001b[39m\u001b[38;5;241m.\u001b[39m_backward_hooks \u001b[38;5;129;01mor\u001b[39;00m \u001b[38;5;28mself\u001b[39m\u001b[38;5;241m.\u001b[39m_backward_pre_hooks \u001b[38;5;129;01mor\u001b[39;00m \u001b[38;5;28mself\u001b[39m\u001b[38;5;241m.\u001b[39m_forward_hooks \u001b[38;5;129;01mor\u001b[39;00m \u001b[38;5;28mself\u001b[39m\u001b[38;5;241m.\u001b[39m_forward_pre_hooks\n\u001b[1;32m   1745\u001b[0m         \u001b[38;5;129;01mor\u001b[39;00m _global_backward_pre_hooks \u001b[38;5;129;01mor\u001b[39;00m _global_backward_hooks\n\u001b[1;32m   1746\u001b[0m         \u001b[38;5;129;01mor\u001b[39;00m _global_forward_hooks \u001b[38;5;129;01mor\u001b[39;00m _global_forward_pre_hooks):\n\u001b[0;32m-> 1747\u001b[0m     \u001b[38;5;28;01mreturn\u001b[39;00m \u001b[43mforward_call\u001b[49m\u001b[43m(\u001b[49m\u001b[38;5;241;43m*\u001b[39;49m\u001b[43margs\u001b[49m\u001b[43m,\u001b[49m\u001b[43m \u001b[49m\u001b[38;5;241;43m*\u001b[39;49m\u001b[38;5;241;43m*\u001b[39;49m\u001b[43mkwargs\u001b[49m\u001b[43m)\u001b[49m\n\u001b[1;32m   1749\u001b[0m result \u001b[38;5;241m=\u001b[39m \u001b[38;5;28;01mNone\u001b[39;00m\n\u001b[1;32m   1750\u001b[0m called_always_called_hooks \u001b[38;5;241m=\u001b[39m \u001b[38;5;28mset\u001b[39m()\n",
      "File \u001b[0;32m/usr/local/lib/python3.12/dist-packages/torch/nn/modules/conv.py:554\u001b[0m, in \u001b[0;36mConv2d.forward\u001b[0;34m(self, input)\u001b[0m\n\u001b[1;32m    553\u001b[0m \u001b[38;5;28;01mdef\u001b[39;00m \u001b[38;5;21mforward\u001b[39m(\u001b[38;5;28mself\u001b[39m, \u001b[38;5;28minput\u001b[39m: Tensor) \u001b[38;5;241m-\u001b[39m\u001b[38;5;241m>\u001b[39m Tensor:\n\u001b[0;32m--> 554\u001b[0m     \u001b[38;5;28;01mreturn\u001b[39;00m \u001b[38;5;28;43mself\u001b[39;49m\u001b[38;5;241;43m.\u001b[39;49m\u001b[43m_conv_forward\u001b[49m\u001b[43m(\u001b[49m\u001b[38;5;28;43minput\u001b[39;49m\u001b[43m,\u001b[49m\u001b[43m \u001b[49m\u001b[38;5;28;43mself\u001b[39;49m\u001b[38;5;241;43m.\u001b[39;49m\u001b[43mweight\u001b[49m\u001b[43m,\u001b[49m\u001b[43m \u001b[49m\u001b[38;5;28;43mself\u001b[39;49m\u001b[38;5;241;43m.\u001b[39;49m\u001b[43mbias\u001b[49m\u001b[43m)\u001b[49m\n",
      "File \u001b[0;32m/usr/local/lib/python3.12/dist-packages/torch/nn/modules/conv.py:549\u001b[0m, in \u001b[0;36mConv2d._conv_forward\u001b[0;34m(self, input, weight, bias)\u001b[0m\n\u001b[1;32m    537\u001b[0m \u001b[38;5;28;01mif\u001b[39;00m \u001b[38;5;28mself\u001b[39m\u001b[38;5;241m.\u001b[39mpadding_mode \u001b[38;5;241m!=\u001b[39m \u001b[38;5;124m\"\u001b[39m\u001b[38;5;124mzeros\u001b[39m\u001b[38;5;124m\"\u001b[39m:\n\u001b[1;32m    538\u001b[0m     \u001b[38;5;28;01mreturn\u001b[39;00m F\u001b[38;5;241m.\u001b[39mconv2d(\n\u001b[1;32m    539\u001b[0m         F\u001b[38;5;241m.\u001b[39mpad(\n\u001b[1;32m    540\u001b[0m             \u001b[38;5;28minput\u001b[39m, \u001b[38;5;28mself\u001b[39m\u001b[38;5;241m.\u001b[39m_reversed_padding_repeated_twice, mode\u001b[38;5;241m=\u001b[39m\u001b[38;5;28mself\u001b[39m\u001b[38;5;241m.\u001b[39mpadding_mode\n\u001b[0;32m   (...)\u001b[0m\n\u001b[1;32m    547\u001b[0m         \u001b[38;5;28mself\u001b[39m\u001b[38;5;241m.\u001b[39mgroups,\n\u001b[1;32m    548\u001b[0m     )\n\u001b[0;32m--> 549\u001b[0m \u001b[38;5;28;01mreturn\u001b[39;00m \u001b[43mF\u001b[49m\u001b[38;5;241;43m.\u001b[39;49m\u001b[43mconv2d\u001b[49m\u001b[43m(\u001b[49m\n\u001b[1;32m    550\u001b[0m \u001b[43m    \u001b[49m\u001b[38;5;28;43minput\u001b[39;49m\u001b[43m,\u001b[49m\u001b[43m \u001b[49m\u001b[43mweight\u001b[49m\u001b[43m,\u001b[49m\u001b[43m \u001b[49m\u001b[43mbias\u001b[49m\u001b[43m,\u001b[49m\u001b[43m \u001b[49m\u001b[38;5;28;43mself\u001b[39;49m\u001b[38;5;241;43m.\u001b[39;49m\u001b[43mstride\u001b[49m\u001b[43m,\u001b[49m\u001b[43m \u001b[49m\u001b[38;5;28;43mself\u001b[39;49m\u001b[38;5;241;43m.\u001b[39;49m\u001b[43mpadding\u001b[49m\u001b[43m,\u001b[49m\u001b[43m \u001b[49m\u001b[38;5;28;43mself\u001b[39;49m\u001b[38;5;241;43m.\u001b[39;49m\u001b[43mdilation\u001b[49m\u001b[43m,\u001b[49m\u001b[43m \u001b[49m\u001b[38;5;28;43mself\u001b[39;49m\u001b[38;5;241;43m.\u001b[39;49m\u001b[43mgroups\u001b[49m\n\u001b[1;32m    551\u001b[0m \u001b[43m\u001b[49m\u001b[43m)\u001b[49m\n",
      "\u001b[0;31mKeyboardInterrupt\u001b[0m: "
     ]
    }
   ],
   "source": [
    "# Lists to store the losses for plotting\n",
    "train_losses = []\n",
    "val_losses = []\n",
    "\n",
    "# Training and Validation Loop\n",
    "num_epochs = 60\n",
    "\n",
    "for epoch in range(num_epochs):\n",
    "    model.train()\n",
    "    running_train_loss = 0.0\n",
    "\n",
    "    # Train Loop\n",
    "    for images, labels in train_loader:\n",
    "        images, labels = images.to(device), labels.to(device).unsqueeze(1)\n",
    "        optimizer.zero_grad()\n",
    "        outputs = model(images)\n",
    "        loss = criterion(outputs, labels)\n",
    "        loss.backward()\n",
    "        optimizer.step()\n",
    "        running_train_loss += loss.item()\n",
    "\n",
    "    train_loss = running_train_loss / len(train_loader)\n",
    "    train_losses.append(train_loss)\n",
    "\n",
    "    # Validation Loop\n",
    "    model.eval()\n",
    "    running_val_loss = 0.0\n",
    "\n",
    "    with torch.no_grad():\n",
    "        for images, labels in val_loader:\n",
    "            images, labels = images.to(device), labels.to(device).unsqueeze(1)\n",
    "            outputs = model(images)\n",
    "            loss = criterion(outputs, labels)\n",
    "            running_val_loss += loss.item()\n",
    "\n",
    "    val_loss = running_val_loss / len(val_loader)\n",
    "    val_losses.append(val_loss)\n",
    "\n",
    "    # Print progress\n",
    "    print(f'Epoch {epoch + 1}/{num_epochs}')\n",
    "    print(f'  Train Loss: {train_loss:.4f}')\n",
    "    print(f'  Validation Loss: {val_loss:.4f}')\n",
    "\n",
    "    # # Check early stopping\n",
    "    # early_stopping(val_loss)\n",
    "    # if early_stopping.early_stop:\n",
    "    #     print(\"Early stopping triggered.\")\n",
    "    #     break\n",
    "\n",
    "    # # Update learning rate based on validation loss\n",
    "    # scheduler.step(val_loss)"
   ]
  },
  {
   "cell_type": "code",
   "execution_count": 20,
   "metadata": {},
   "outputs": [
    {
     "name": "stdout",
     "output_type": "stream",
     "text": [
      "\n",
      "Classification Report:\n",
      "              precision    recall  f1-score   support\n",
      "\n",
      "         Cat       0.87      0.87      0.87       800\n",
      "         Dog       0.87      0.87      0.87       800\n",
      "\n",
      "    accuracy                           0.87      1600\n",
      "   macro avg       0.87      0.87      0.87      1600\n",
      "weighted avg       0.87      0.87      0.87      1600\n",
      "\n",
      "Confusion Matrix:\n",
      "[[694 106]\n",
      " [105 695]]\n"
     ]
    },
    {
     "data": {
      "image/png": "[encoded data removed]",
      "text/plain": [
       "<Figure size 640x480 with 1 Axes>"
      ]
     },
     "metadata": {},
     "output_type": "display_data"
    }
   ],
   "source": [
    "# Final Evaluation\n",
    "model.eval()\n",
    "y_true = []\n",
    "y_pred = []\n",
    "with torch.no_grad():\n",
    "    for images, labels in val_loader:\n",
    "        images, labels = images.to(device), labels.to(device).unsqueeze(1)\n",
    "        outputs = model(images)\n",
    "        preds = (outputs >= 0.5).float()\n",
    "        y_true.extend(labels.cpu().numpy())\n",
    "        y_pred.extend(preds.cpu().numpy())\n",
    "\n",
    "# Generate Classification Report and Confusion Matrix\n",
    "print(\"\\nClassification Report:\")\n",
    "print(classification_report(y_true, y_pred, target_names=[\"Cat\", \"Dog\"]))\n",
    "\n",
    "print(\"Confusion Matrix:\")\n",
    "print(confusion_matrix(y_true, y_pred))\n",
    "\n",
    "# Plotting the losses\n",
    "plt.plot(train_losses, label=\"Train Loss\")\n",
    "plt.plot(val_losses, label=\"Validation Loss\")\n",
    "plt.xlabel(\"Epochs\")\n",
    "plt.ylabel(\"Loss\")\n",
    "plt.legend()\n",
    "plt.title(\"Training and Validation Loss\")\n",
    "plt.show()"
   ]
  },
  {
   "cell_type": "code",
   "execution_count": 23,
   "metadata": {},
   "outputs": [],
   "source": [
    "# Save the model's state_dict\n",
    "torch.save(model.state_dict(), 'model.pth')\n",
    "\n",
    "# Later for loading the model I have to do the following:\n",
    "# Recreate the model architecture\n",
    "#model = SmallCNN()  # Use the same class definition\n",
    "#model.load_state_dict(torch.load('model.pth'))\n",
    "#model.to(device)  # Move to the appropriate device\n",
    "#model.eval()  # Set to evaluation mode"
   ]
  },
  {
   "cell_type": "code",
   "execution_count": 24,
   "metadata": {},
   "outputs": [],
   "source": [
    "with open(\"train_losses.txt\", \"w\") as file:\n",
    "    for item in train_losses:\n",
    "        file.write(str(item) + \"\\n\")\n",
    "with open(\"val_losses.txt\", \"w\") as file:\n",
    "    for item in val_losses:\n",
    "        file.write(str(item) + \"\\n\")"
   ]
  },
  {
   "cell_type": "code",
   "execution_count": null,
   "metadata": {},
   "outputs": [],
   "source": []
  }
 ],
 "metadata": {
  "kernelspec": {
   "display_name": "Python 3",
   "language": "python",
   "name": "python3"
  },
  "language_info": {
   "codemirror_mode": {
    "name": "ipython",
    "version": 3
   },
   "file_extension": ".py",
   "mimetype": "text/x-python",
   "name": "python",
   "nbconvert_exporter": "python",
   "pygments_lexer": "ipython3",
   "version": "3.12.3"
  }
 },
 "nbformat": 4,
 "nbformat_minor": 2
}
